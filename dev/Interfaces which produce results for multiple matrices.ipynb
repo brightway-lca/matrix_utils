{
 "cells": [
  {
   "cell_type": "markdown",
   "metadata": {},
   "source": [
    "# Interfaces which produce results for multiple matrices\n",
    "\n",
    "This notebook explain one way to handle an interface that produces results for multiple matrices, where the classic `Interface` pattern (generator which supports `__next__`) won't work. It assumes familiarity with the Brightway 2.5 concepts described in other notebooks.\n",
    "\n",
    "There is one obvious generic approach to handle this division of responsibilities, namely:\n",
    "\n",
    "* The interface to an external system calls for new data\n",
    "* Proxy objects feed that data into matrices\n",
    "\n",
    "However, the implementation details can vary. Below is just the first path I thought of, it isn't the only one, or the most correct. My emphasis here was on simplicity, balanced with not adding any extra work (i.e. the external interface should \"just work\")."
   ]
  },
  {
   "cell_type": "code",
   "execution_count": 1,
   "metadata": {},
   "outputs": [],
   "source": [
    "%matplotlib inline"
   ]
  },
  {
   "cell_type": "code",
   "execution_count": 4,
   "metadata": {},
   "outputs": [],
   "source": [
    "import bw2data as bd\n",
    "import bw2calc as bc\n",
    "import bw_processing as bwp\n",
    "import numpy as np\n",
    "import seaborn as sb\n",
    "from scipy import stats\n",
    "from matplotlib import pyplot as plt\n",
    "from functools import partial"
   ]
  },
  {
   "cell_type": "markdown",
   "metadata": {},
   "source": [
    "This assumes you have this project, with the ecoinvent database installed."
   ]
  },
  {
   "cell_type": "code",
   "execution_count": 3,
   "metadata": {},
   "outputs": [],
   "source": [
    "bd.projects.set_current(\"ecoinvent 3.7.1\")"
   ]
  },
  {
   "cell_type": "markdown",
   "metadata": {},
   "source": [
    "# Basic case study setup\n",
    "\n",
    "Ac activity with one technosphere and one biopshere input"
   ]
  },
  {
   "cell_type": "code",
   "execution_count": 21,
   "metadata": {},
   "outputs": [],
   "source": [
    "if \"multiple matrices case study\" in bd.databases:\n",
    "    del bd.databases[\"multiple matrices case study\"]"
   ]
  },
  {
   "cell_type": "code",
   "execution_count": 22,
   "metadata": {},
   "outputs": [],
   "source": [
    "db = bd.Database(\"multiple matrices case study\")\n",
    "db.register()"
   ]
  },
  {
   "cell_type": "code",
   "execution_count": 23,
   "metadata": {},
   "outputs": [],
   "source": [
    "act = db.new_activity(code=\"foo\", name=\"example activity\")\n",
    "act.save()"
   ]
  },
  {
   "cell_type": "code",
   "execution_count": 24,
   "metadata": {},
   "outputs": [],
   "source": [
    "co2 = next(x for x in bd.Database(\"biosphere3\") \n",
    "           if x['name'] == 'Carbon dioxide, fossil'\n",
    "           and x['categories'] == ('air',))"
   ]
  },
  {
   "cell_type": "code",
   "execution_count": 25,
   "metadata": {},
   "outputs": [],
   "source": [
    "steel = next(x for x in bd.Database(\"ecoinvent 3.7.1\") \n",
    "             if x['name'] == 'market for steel, low-alloyed')"
   ]
  },
  {
   "cell_type": "code",
   "execution_count": 26,
   "metadata": {},
   "outputs": [],
   "source": [
    "act.new_exchange(input=co2, amount=1, type=\"biosphere\").save()\n",
    "act.new_exchange(input=steel, amount=1, type=\"technosphere\").save()\n",
    "act.new_exchange(input=act, amount=1, type=\"production\").save()"
   ]
  },
  {
   "cell_type": "markdown",
   "metadata": {},
   "source": [
    "# Interface to external data"
   ]
  },
  {
   "cell_type": "code",
   "execution_count": 66,
   "metadata": {},
   "outputs": [],
   "source": [
    "class Interface:\n",
    "    \"\"\"An interface that gathers data for both technosphere and biosphere matrix elements.\"\"\"\n",
    "    def __init__(self):\n",
    "        self.state = {\n",
    "            'technosphere': False,\n",
    "            'biosphere': False\n",
    "        }        \n",
    "        self.technosphere_index = 1\n",
    "        \n",
    "    def technosphere(self):\n",
    "        if not self.state['technosphere']:\n",
    "            self.regenerate()\n",
    "        self.state['technosphere'] = False\n",
    "        # Make sure to get sign right here (inputs are consumed -> negative), or in `flip_array`\n",
    "        return self.data[:self.technosphere_index] * -1\n",
    "\n",
    "    def biosphere(self):\n",
    "        if not self.state['biosphere']:\n",
    "            self.regenerate()\n",
    "        self.state['biosphere'] = False\n",
    "        return self.data[self.technosphere_index:]\n",
    "    \n",
    "    def regenerate(self):\n",
    "        # Do whatever magic here\n",
    "        print(\"Getting new data\")\n",
    "        self.data = np.random.random(size=2)\n",
    "        self.state = {\n",
    "            'technosphere': True,\n",
    "            'biosphere': True\n",
    "        }        \n",
    "        "
   ]
  },
  {
   "cell_type": "code",
   "execution_count": 67,
   "metadata": {},
   "outputs": [],
   "source": [
    "my_interface = Interface()"
   ]
  },
  {
   "cell_type": "code",
   "execution_count": 68,
   "metadata": {},
   "outputs": [
    {
     "name": "stdout",
     "output_type": "stream",
     "text": [
      "Getting new data\n"
     ]
    },
    {
     "data": {
      "text/plain": [
       "array([-0.73817437])"
      ]
     },
     "execution_count": 68,
     "metadata": {},
     "output_type": "execute_result"
    }
   ],
   "source": [
    "my_interface.technosphere()"
   ]
  },
  {
   "cell_type": "code",
   "execution_count": 69,
   "metadata": {},
   "outputs": [
    {
     "data": {
      "text/plain": [
       "array([0.73817437, 0.75994679])"
      ]
     },
     "execution_count": 69,
     "metadata": {},
     "output_type": "execute_result"
    }
   ],
   "source": [
    "my_interface.data"
   ]
  },
  {
   "cell_type": "markdown",
   "metadata": {},
   "source": [
    "Asking for `biosphere` uses the saved data:"
   ]
  },
  {
   "cell_type": "code",
   "execution_count": 70,
   "metadata": {},
   "outputs": [
    {
     "data": {
      "text/plain": [
       "array([0.75994679])"
      ]
     },
     "execution_count": 70,
     "metadata": {},
     "output_type": "execute_result"
    }
   ],
   "source": [
    "my_interface.biosphere()"
   ]
  },
  {
   "cell_type": "markdown",
   "metadata": {},
   "source": [
    "But asking for either again draws new data:"
   ]
  },
  {
   "cell_type": "code",
   "execution_count": 71,
   "metadata": {},
   "outputs": [
    {
     "name": "stdout",
     "output_type": "stream",
     "text": [
      "Getting new data\n"
     ]
    },
    {
     "data": {
      "text/plain": [
       "array([-0.13109311])"
      ]
     },
     "execution_count": 71,
     "metadata": {},
     "output_type": "execute_result"
    }
   ],
   "source": [
    "my_interface.technosphere()"
   ]
  },
  {
   "cell_type": "code",
   "execution_count": 72,
   "metadata": {},
   "outputs": [
    {
     "data": {
      "text/plain": [
       "array([0.13109311, 0.25726256])"
      ]
     },
     "execution_count": 72,
     "metadata": {},
     "output_type": "execute_result"
    }
   ],
   "source": [
    "my_interface.data"
   ]
  },
  {
   "cell_type": "markdown",
   "metadata": {},
   "source": [
    "# Proxy classes"
   ]
  },
  {
   "cell_type": "code",
   "execution_count": 73,
   "metadata": {},
   "outputs": [],
   "source": [
    "class TechnosphereInterface:\n",
    "    def __init__(self, interface):\n",
    "        self.interface = interface\n",
    "    \n",
    "    def __next__(self):\n",
    "        return self.interface.technosphere()"
   ]
  },
  {
   "cell_type": "code",
   "execution_count": 74,
   "metadata": {},
   "outputs": [],
   "source": [
    "class BiosphereInterface:\n",
    "    def __init__(self, interface):\n",
    "        self.interface = interface\n",
    "    \n",
    "    def __next__(self):\n",
    "        return self.interface.biosphere()"
   ]
  },
  {
   "cell_type": "markdown",
   "metadata": {},
   "source": [
    "# Create the data package\n",
    "\n",
    "This will need two resources, as we are interacting with two matrices."
   ]
  },
  {
   "cell_type": "code",
   "execution_count": 75,
   "metadata": {},
   "outputs": [],
   "source": [
    "t_indices=np.array([\n",
    "        (steel.id, act.id), \n",
    "    ],\n",
    "    dtype=bwp.INDICES_DTYPE   \n",
    ")\n",
    "b_indices=np.array([\n",
    "        (co2.id, act.id), \n",
    "    ],\n",
    "    dtype=bwp.INDICES_DTYPE   \n",
    ")\n",
    "flip_array=np.array([False])"
   ]
  },
  {
   "cell_type": "code",
   "execution_count": 76,
   "metadata": {},
   "outputs": [],
   "source": [
    "dp = bwp.create_datapackage()"
   ]
  },
  {
   "cell_type": "code",
   "execution_count": 77,
   "metadata": {},
   "outputs": [],
   "source": [
    "dp.add_dynamic_vector(\n",
    "    matrix=\"technosphere_matrix\",\n",
    "    interface=TechnosphereInterface(my_interface),\n",
    "    indices_array=t_indices,\n",
    "    flip_array=flip_array,\n",
    ")"
   ]
  },
  {
   "cell_type": "code",
   "execution_count": 78,
   "metadata": {},
   "outputs": [],
   "source": [
    "dp.add_dynamic_vector(\n",
    "    matrix=\"biosphere_matrix\",\n",
    "    interface=BiosphereInterface(my_interface),\n",
    "    indices_array=b_indices,\n",
    "    flip_array=flip_array,\n",
    ")"
   ]
  },
  {
   "cell_type": "markdown",
   "metadata": {},
   "source": [
    "# Use in LCA"
   ]
  },
  {
   "cell_type": "code",
   "execution_count": 79,
   "metadata": {},
   "outputs": [],
   "source": [
    "ipcc = ('IPCC 2013', 'climate change', 'GWP 100a')"
   ]
  },
  {
   "cell_type": "code",
   "execution_count": 80,
   "metadata": {},
   "outputs": [],
   "source": [
    "fu, data_objs, _ = bd.prepare_lca_inputs({act: 1}, method=ipcc)"
   ]
  },
  {
   "cell_type": "code",
   "execution_count": 81,
   "metadata": {},
   "outputs": [
    {
     "name": "stdout",
     "output_type": "stream",
     "text": [
      "Getting new data\n",
      "1.2793434591334893\n",
      "Getting new data\n",
      "1.4096416474356124\n",
      "Getting new data\n",
      "1.3660240337707836\n",
      "Getting new data\n",
      "0.9613782949753171\n",
      "Getting new data\n",
      "1.6996463906672228\n",
      "Getting new data\n",
      "0.36225888230578684\n",
      "Getting new data\n",
      "1.2209777556907158\n",
      "Getting new data\n",
      "1.3054816978948893\n",
      "Getting new data\n",
      "1.0009585745288458\n",
      "Getting new data\n",
      "0.8829430542975789\n",
      "Getting new data\n",
      "0.5993998405288866\n"
     ]
    }
   ],
   "source": [
    "lca = bc.LCA(fu, data_objs=data_objs + [dp])\n",
    "lca.lci()\n",
    "lca.lcia()\n",
    "print(lca.score)\n",
    "\n",
    "for _ in range(10):\n",
    "    next(lca)\n",
    "    print(lca.score)"
   ]
  }
 ],
 "metadata": {
  "kernelspec": {
   "display_name": "Python 3",
   "language": "python",
   "name": "python3"
  },
  "language_info": {
   "codemirror_mode": {
    "name": "ipython",
    "version": 3
   },
   "file_extension": ".py",
   "mimetype": "text/x-python",
   "name": "python",
   "nbconvert_exporter": "python",
   "pygments_lexer": "ipython3",
   "version": "3.8.2"
  }
 },
 "nbformat": 4,
 "nbformat_minor": 4
}
