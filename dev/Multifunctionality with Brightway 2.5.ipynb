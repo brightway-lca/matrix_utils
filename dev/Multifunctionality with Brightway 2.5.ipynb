{
 "cells": [
  {
   "cell_type": "markdown",
   "metadata": {},
   "source": [
    "# Import development libraries"
   ]
  },
  {
   "cell_type": "code",
   "execution_count": 16,
   "metadata": {},
   "outputs": [],
   "source": [
    "import bw2data as bd\n",
    "import bw2calc as bc\n",
    "import bw_processing as bwp\n",
    "import numpy as np\n",
    "import matrix_utils as mu"
   ]
  },
  {
   "cell_type": "markdown",
   "metadata": {},
   "source": [
    "# Create new project"
   ]
  },
  {
   "cell_type": "code",
   "execution_count": 2,
   "metadata": {},
   "outputs": [],
   "source": [
    "bd.projects.set_current(\"Multifunctionality\")"
   ]
  },
  {
   "cell_type": "markdown",
   "metadata": {},
   "source": [
    "Our existing implementation allows us to distinguish activities and prodducts, though not everyone does this."
   ]
  },
  {
   "cell_type": "code",
   "execution_count": 3,
   "metadata": {},
   "outputs": [
    {
     "name": "stderr",
     "output_type": "stream",
     "text": [
      "Writing activities to SQLite3 database:\n",
      "0% [#####] 100% | ETA: 00:00:00\n",
      "Total time elapsed: 00:00:00\n"
     ]
    },
    {
     "name": "stdout",
     "output_type": "stream",
     "text": [
      "Title: Writing activities to SQLite3 database:\n",
      "  Started: 02/18/2021 10:54:06\n",
      "  Finished: 02/18/2021 10:54:06\n",
      "  Total time elapsed: 00:00:00\n",
      "  CPU %: 48.00\n",
      "  Memory %: 0.69\n"
     ]
    }
   ],
   "source": [
    "db = bd.Database(\"background\")\n",
    "db.write({\n",
    "    (\"background\", \"1\"): {\n",
    "        \"type\": \"process\",\n",
    "        \"name\": \"1\",\n",
    "        \"exchanges\": [{\n",
    "            \"input\": (\"background\", \"bio\"),\n",
    "            \"amount\": 1,\n",
    "            \"type\": \"biosphere\",\n",
    "        }]\n",
    "    }, \n",
    "    (\"background\", \"2\"): {\n",
    "        \"type\": \"process\",\n",
    "        \"name\": \"2\",\n",
    "        \"exchanges\": [{\n",
    "            \"input\": (\"background\", \"bio\"),\n",
    "            \"amount\": 10,\n",
    "            \"type\": \"biosphere\",\n",
    "        }]\n",
    "    },\n",
    "    (\"background\", \"bio\"): {\n",
    "        \"type\": \"biosphere\",\n",
    "        \"name\": \"bio\",\n",
    "        \"exchanges\": [],\n",
    "    },\n",
    "    (\"background\", \"3\"): {\n",
    "        \"type\": \"process\",\n",
    "        \"name\": \"2\",\n",
    "        \"exchanges\": [\n",
    "            {\n",
    "                \"input\": (\"background\", \"1\"),\n",
    "                \"amount\": 2,\n",
    "                \"type\": \"technosphere\",\n",
    "            }, {\n",
    "                \"input\": (\"background\", \"2\"),\n",
    "                \"amount\": 4,\n",
    "                \"type\": \"technosphere\",\n",
    "            }, {\n",
    "                \"input\": (\"background\", \"4\"),\n",
    "                \"amount\": 1,\n",
    "                \"type\": \"production\",\n",
    "                \n",
    "            }\n",
    "        ]\n",
    "    },\n",
    "    (\"background\", \"4\"): {\n",
    "        \"type\": \"product\",\n",
    "    }\n",
    "})"
   ]
  },
  {
   "cell_type": "code",
   "execution_count": 39,
   "metadata": {},
   "outputs": [],
   "source": [
    "method = bd.Method((\"something\",))\n",
    "method.write([((\"background\", \"bio\"), 1)])"
   ]
  },
  {
   "cell_type": "markdown",
   "metadata": {},
   "source": [
    "# LCA of background system\n",
    "\n",
    "This database is fine and normal. It work the way we expect.\n",
    "\n",
    "Here we use the preferred calling convention for Brightway 2.5, with the convenience function `prepare_lca_inputs`."
   ]
  },
  {
   "cell_type": "code",
   "execution_count": 5,
   "metadata": {},
   "outputs": [],
   "source": [
    "fu, data_objs, _ = bd.prepare_lca_inputs(demand={(\"background\", \"4\"): 1}, method=(\"something\",))"
   ]
  },
  {
   "cell_type": "code",
   "execution_count": 6,
   "metadata": {},
   "outputs": [
    {
     "data": {
      "text/plain": [
       "42.0"
      ]
     },
     "execution_count": 6,
     "metadata": {},
     "output_type": "execute_result"
    }
   ],
   "source": [
    "lca = bc.LCA(fu, data_objs=data_objs)\n",
    "lca.lci()\n",
    "lca.lcia()\n",
    "lca.score"
   ]
  },
  {
   "cell_type": "markdown",
   "metadata": {},
   "source": [
    "# Multifunctional activities\n",
    "\n",
    "What happens when we have an activity that produces multiple products?"
   ]
  },
  {
   "cell_type": "code",
   "execution_count": 7,
   "metadata": {},
   "outputs": [
    {
     "name": "stderr",
     "output_type": "stream",
     "text": [
      "Writing activities to SQLite3 database:\n",
      "0% [###] 100% | ETA: 00:00:00\n",
      "Total time elapsed: 00:00:00\n"
     ]
    },
    {
     "name": "stdout",
     "output_type": "stream",
     "text": [
      "Title: Writing activities to SQLite3 database:\n",
      "  Started: 02/18/2021 10:54:07\n",
      "  Finished: 02/18/2021 10:54:07\n",
      "  Total time elapsed: 00:00:00\n",
      "  CPU %: 18.50\n",
      "  Memory %: 0.75\n"
     ]
    }
   ],
   "source": [
    "db = bd.Database(\"example mf\")\n",
    "db.write({\n",
    "    # Activity\n",
    "    (\"example mf\", \"1\"): {\n",
    "        \"type\": \"process\",\n",
    "        \"name\": \"mf 1\",\n",
    "        \"exchanges\": [\n",
    "            {\n",
    "                \"input\": (\"example mf\", \"2\"),\n",
    "                \"amount\": 2,\n",
    "                \"type\": \"production\",\n",
    "            }, {\n",
    "                \"input\": (\"example mf\", \"3\"),\n",
    "                \"amount\": 4,\n",
    "                \"type\": \"production\",\n",
    "            },\n",
    "            {\n",
    "                \"input\": (\"background\", \"1\"),\n",
    "                \"amount\": 2,\n",
    "                \"type\": \"technosphere\",\n",
    "            }, {\n",
    "                \"input\": (\"background\", \"2\"),\n",
    "                \"amount\": 4,\n",
    "                \"type\": \"technosphere\",\n",
    "            }\n",
    "        ]\n",
    "    },\n",
    "    # Product\n",
    "    (\"example mf\", \"2\"): {\n",
    "        \"type\": \"good\",\n",
    "        \"price\": 4\n",
    "    },\n",
    "    # Product\n",
    "    (\"example mf\", \"3\"): {\n",
    "        \"type\": \"good\",\n",
    "        \"price\": 6\n",
    "    }\n",
    "})"
   ]
  },
  {
   "cell_type": "markdown",
   "metadata": {},
   "source": [
    "We can do an LCA of one of the products, but we will get a warning about a non-square matrix:"
   ]
  },
  {
   "cell_type": "code",
   "execution_count": 40,
   "metadata": {},
   "outputs": [],
   "source": [
    "fu, data_objs, _ = bd.prepare_lca_inputs(demand={(\"example mf\", \"1\"): 1}, method=(\"something\",))"
   ]
  },
  {
   "cell_type": "code",
   "execution_count": 41,
   "metadata": {},
   "outputs": [
    {
     "ename": "NonsquareTechnosphere",
     "evalue": "Technosphere matrix is not square: 4 activities (columns) and 5 products (rows). Use LeastSquaresLCA to solve this system, or fix the input data",
     "output_type": "error",
     "traceback": [
      "\u001b[0;31m---------------------------------------------------------------------------\u001b[0m",
      "\u001b[0;31mNonsquareTechnosphere\u001b[0m                     Traceback (most recent call last)",
      "\u001b[0;32m<ipython-input-41-3e65273e23a2>\u001b[0m in \u001b[0;36m<module>\u001b[0;34m\u001b[0m\n\u001b[1;32m      1\u001b[0m \u001b[0mlca\u001b[0m \u001b[0;34m=\u001b[0m \u001b[0mbc\u001b[0m\u001b[0;34m.\u001b[0m\u001b[0mLCA\u001b[0m\u001b[0;34m(\u001b[0m\u001b[0mfu\u001b[0m\u001b[0;34m,\u001b[0m \u001b[0mdata_objs\u001b[0m\u001b[0;34m=\u001b[0m\u001b[0mdata_objs\u001b[0m\u001b[0;34m)\u001b[0m\u001b[0;34m\u001b[0m\u001b[0;34m\u001b[0m\u001b[0m\n\u001b[0;32m----> 2\u001b[0;31m \u001b[0mlca\u001b[0m\u001b[0;34m.\u001b[0m\u001b[0mlci\u001b[0m\u001b[0;34m(\u001b[0m\u001b[0;34m)\u001b[0m\u001b[0;34m\u001b[0m\u001b[0;34m\u001b[0m\u001b[0m\n\u001b[0m",
      "\u001b[0;32m~/Code/bw2/calc/bw2calc/lca.py\u001b[0m in \u001b[0;36mlci\u001b[0;34m(self, factorize)\u001b[0m\n\u001b[1;32m    329\u001b[0m \u001b[0;34m\u001b[0m\u001b[0m\n\u001b[1;32m    330\u001b[0m         \"\"\"\n\u001b[0;32m--> 331\u001b[0;31m         \u001b[0mself\u001b[0m\u001b[0;34m.\u001b[0m\u001b[0mload_lci_data\u001b[0m\u001b[0;34m(\u001b[0m\u001b[0;34m)\u001b[0m\u001b[0;34m\u001b[0m\u001b[0;34m\u001b[0m\u001b[0m\n\u001b[0m\u001b[1;32m    332\u001b[0m         \u001b[0mself\u001b[0m\u001b[0;34m.\u001b[0m\u001b[0mbuild_demand_array\u001b[0m\u001b[0;34m(\u001b[0m\u001b[0;34m)\u001b[0m\u001b[0;34m\u001b[0m\u001b[0;34m\u001b[0m\u001b[0m\n\u001b[1;32m    333\u001b[0m         \u001b[0;32mif\u001b[0m \u001b[0mfactorize\u001b[0m\u001b[0;34m:\u001b[0m\u001b[0;34m\u001b[0m\u001b[0;34m\u001b[0m\u001b[0m\n",
      "\u001b[0;32m~/Code/bw2/calc/bw2calc/lca.py\u001b[0m in \u001b[0;36mload_lci_data\u001b[0;34m(self)\u001b[0m\n\u001b[1;32m    175\u001b[0m \u001b[0;34m\u001b[0m\u001b[0m\n\u001b[1;32m    176\u001b[0m         \u001b[0;32mif\u001b[0m \u001b[0mlen\u001b[0m\u001b[0;34m(\u001b[0m\u001b[0mself\u001b[0m\u001b[0;34m.\u001b[0m\u001b[0mtechnosphere_mm\u001b[0m\u001b[0;34m.\u001b[0m\u001b[0mrow_mapper\u001b[0m\u001b[0;34m)\u001b[0m \u001b[0;34m!=\u001b[0m \u001b[0mlen\u001b[0m\u001b[0;34m(\u001b[0m\u001b[0mself\u001b[0m\u001b[0;34m.\u001b[0m\u001b[0mtechnosphere_mm\u001b[0m\u001b[0;34m.\u001b[0m\u001b[0mcol_mapper\u001b[0m\u001b[0;34m)\u001b[0m\u001b[0;34m:\u001b[0m\u001b[0;34m\u001b[0m\u001b[0;34m\u001b[0m\u001b[0m\n\u001b[0;32m--> 177\u001b[0;31m             raise NonsquareTechnosphere(\n\u001b[0m\u001b[1;32m    178\u001b[0m                 (\n\u001b[1;32m    179\u001b[0m                     \u001b[0;34m\"Technosphere matrix is not square: {} activities (columns) and {} products (rows). \"\u001b[0m\u001b[0;34m\u001b[0m\u001b[0;34m\u001b[0m\u001b[0m\n",
      "\u001b[0;31mNonsquareTechnosphere\u001b[0m: Technosphere matrix is not square: 4 activities (columns) and 5 products (rows). Use LeastSquaresLCA to solve this system, or fix the input data"
     ]
    }
   ],
   "source": [
    "lca = bc.LCA(fu, data_objs=data_objs)\n",
    "lca.lci()"
   ]
  },
  {
   "cell_type": "markdown",
   "metadata": {},
   "source": [
    "If we look at the technosphere matrix, we can see our background database (upper left quadrant), and the two production exchanges in the lower right:"
   ]
  },
  {
   "cell_type": "code",
   "execution_count": 42,
   "metadata": {},
   "outputs": [
    {
     "data": {
      "text/plain": [
       "array([[ 1.,  0., -2., -2.],\n",
       "       [ 0.,  1., -4., -4.],\n",
       "       [ 0.,  0.,  1.,  0.],\n",
       "       [ 0.,  0.,  0.,  2.],\n",
       "       [ 0.,  0.,  0.,  4.]])"
      ]
     },
     "execution_count": 42,
     "metadata": {},
     "output_type": "execute_result"
    }
   ],
   "source": [
    "lca.technosphere_matrix.toarray()"
   ]
  },
  {
   "cell_type": "markdown",
   "metadata": {},
   "source": [
    "# Handling multifunctionality\n",
    "\n",
    "There are many ways to do this. This notebook is an illustration of how such approaches can be madde easier using the helper libraries [bw_processing](https://github.com/brightway-lca/bw_processing) and [matrix_utils](https://github.com/brightway-lca/matrix_utils), not a statement that one approach is better (or even correct).\n",
    "\n",
    "We create a new, in-memory \"delta\" `bw_processing` data package that gives new values for some additional columns in the matrix (the virtual activities generated by allocating each product), as well as updating values in the existing matrix."
   ]
  },
  {
   "cell_type": "code",
   "execution_count": 11,
   "metadata": {},
   "outputs": [],
   "source": [
    "def economic_allocation(dataset):\n",
    "    assert isinstance(dataset, bd.backends.Activity)\n",
    "    \n",
    "    # Split exchanges into functional and non-functional\n",
    "    functions = [exc for exc in dataset.exchanges() if exc.input.get('type') in {'good', 'waste'}]\n",
    "    others = [exc for exc in dataset.exchanges() if exc.input.get('type') not in {'good', 'waste'}]\n",
    "    \n",
    "    for exc in functions:\n",
    "        assert exc.input.get(\"price\") is not None\n",
    "\n",
    "    total_value = sum([exc.input['price'] * exc['amount'] for exc in functions])\n",
    "        \n",
    "    # Plus one because need to add (missing) production exchanges\n",
    "    n = len(functions) * (len(others) + 1) + 1\n",
    "    data = np.zeros(n)\n",
    "    indices = np.zeros(n, dtype=bwp.INDICES_DTYPE)\n",
    "    flip = np.zeros(n, dtype=bool)\n",
    "    \n",
    "    for i, f in enumerate(functions):\n",
    "        allocation_factor = f['amount'] * f.input['price'] / total_value\n",
    "        col = bd.get_id(f.input)\n",
    "        \n",
    "        # Add explicit production\n",
    "        data[i * (len(others) + 1)] = f['amount']\n",
    "        indices[i * (len(others) + 1)] = (col, col)\n",
    "\n",
    "        for j, o in enumerate(others):\n",
    "            index = i * (len(others) + 1) + j + 1\n",
    "            data[index] = o['amount'] * allocation_factor\n",
    "            flip[index] = o['type'] in {'technosphere', 'generic consumption'}\n",
    "            indices[index] = (bd.get_id(o.input), col)\n",
    "\n",
    "    # Add implicit production of allocated dataset\n",
    "    data[-1] = 1\n",
    "    indices[-1] = (dataset.id, dataset.id)\n",
    "                \n",
    "    # Note: This assumes everything is in technosphere, a real function would also\n",
    "    # patch the biosphere\n",
    "    allocated = bwp.create_datapackage(sum_intra_duplicates=True, sum_inter_duplicates=False)\n",
    "    allocated.add_persistent_vector(\n",
    "        matrix=\"technosphere_matrix\",\n",
    "        indices_array=indices,\n",
    "        flip_array=flip,\n",
    "        data_array=data,\n",
    "        name=f\"Allocated version of {dataset}\",\n",
    "    )\n",
    "    return allocated"
   ]
  },
  {
   "cell_type": "code",
   "execution_count": 43,
   "metadata": {},
   "outputs": [],
   "source": [
    "dp = economic_allocation(bd.get_activity((\"example mf\", \"1\")))"
   ]
  },
  {
   "cell_type": "code",
   "execution_count": 44,
   "metadata": {},
   "outputs": [],
   "source": [
    "lca = bc.LCA({bd.get_id((\"example mf\", \"2\")): 1}, data_objs=data_objs + [dp])"
   ]
  },
  {
   "cell_type": "code",
   "execution_count": 45,
   "metadata": {},
   "outputs": [],
   "source": [
    "lca.lci()"
   ]
  },
  {
   "cell_type": "markdown",
   "metadata": {},
   "source": [
    "Note that the last two columns, when summed together, form the unallocated activity (column 4):"
   ]
  },
  {
   "cell_type": "code",
   "execution_count": 46,
   "metadata": {},
   "outputs": [
    {
     "data": {
      "text/plain": [
       "array([[ 1. ,  0. , -2. , -2. , -0.5, -1.5],\n",
       "       [ 0. ,  1. , -4. , -4. , -1. , -3. ],\n",
       "       [ 0. ,  0. ,  1. ,  0. ,  0. ,  0. ],\n",
       "       [ 0. ,  0. ,  0. ,  1. ,  0. ,  0. ],\n",
       "       [ 0. ,  0. ,  0. ,  2. ,  2. ,  0. ],\n",
       "       [ 0. ,  0. ,  0. ,  4. ,  0. ,  4. ]])"
      ]
     },
     "execution_count": 46,
     "metadata": {},
     "output_type": "execute_result"
    }
   ],
   "source": [
    "lca.technosphere_matrix.toarray()"
   ]
  },
  {
   "cell_type": "markdown",
   "metadata": {},
   "source": [
    "To make sure what we have done is clear, we can create the matrix just for the \"delta\" data package:"
   ]
  },
  {
   "cell_type": "code",
   "execution_count": 47,
   "metadata": {},
   "outputs": [
    {
     "data": {
      "text/plain": [
       "array([[ 0. , -0.5, -1.5],\n",
       "       [ 0. , -1. , -3. ],\n",
       "       [ 1. ,  0. ,  0. ],\n",
       "       [ 0. ,  2. ,  0. ],\n",
       "       [ 0. ,  0. ,  4. ]])"
      ]
     },
     "execution_count": 47,
     "metadata": {},
     "output_type": "execute_result"
    }
   ],
   "source": [
    "mu.MappedMatrix(packages=[dp], matrix=\"technosphere_matrix\").matrix.toarray()"
   ]
  },
  {
   "cell_type": "markdown",
   "metadata": {},
   "source": [
    "And we can now do LCAs of both allocated products:"
   ]
  },
  {
   "cell_type": "code",
   "execution_count": 48,
   "metadata": {},
   "outputs": [
    {
     "data": {
      "text/plain": [
       "5.25"
      ]
     },
     "execution_count": 48,
     "metadata": {},
     "output_type": "execute_result"
    }
   ],
   "source": [
    "lca.lcia()\n",
    "lca.score"
   ]
  },
  {
   "cell_type": "code",
   "execution_count": 49,
   "metadata": {},
   "outputs": [
    {
     "data": {
      "text/plain": [
       "7.875"
      ]
     },
     "execution_count": 49,
     "metadata": {},
     "output_type": "execute_result"
    }
   ],
   "source": [
    "lca = bc.LCA({bd.get_id((\"example mf\", \"3\")): 1}, data_objs=data_objs + [dp])\n",
    "lca.lci()\n",
    "lca.lcia()\n",
    "lca.score"
   ]
  }
 ],
 "metadata": {
  "kernelspec": {
   "display_name": "Python 3",
   "language": "python",
   "name": "python3"
  },
  "language_info": {
   "codemirror_mode": {
    "name": "ipython",
    "version": 3
   },
   "file_extension": ".py",
   "mimetype": "text/x-python",
   "name": "python",
   "nbconvert_exporter": "python",
   "pygments_lexer": "ipython3",
   "version": "3.8.2"
  }
 },
 "nbformat": 4,
 "nbformat_minor": 4
}
