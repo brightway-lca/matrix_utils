{
 "cells": [
  {
   "cell_type": "markdown",
   "metadata": {},
   "source": [
    "# Import development libraries"
   ]
  },
  {
   "cell_type": "code",
   "execution_count": 1,
   "metadata": {},
   "outputs": [],
   "source": [
    "import bw2data as bd\n",
    "import bw2calc as bc\n",
    "import bw_processing as bwp\n",
    "import numpy as np"
   ]
  },
  {
   "cell_type": "markdown",
   "metadata": {},
   "source": [
    "Ecoinvent and base data already imported"
   ]
  },
  {
   "cell_type": "code",
   "execution_count": 2,
   "metadata": {},
   "outputs": [],
   "source": [
    "bd.projects.set_current(\"ecoinvent 3.7.1\")"
   ]
  },
  {
   "cell_type": "code",
   "execution_count": 3,
   "metadata": {},
   "outputs": [],
   "source": [
    "tox = ('ReCiPe Midpoint (E) V1.13', 'human toxicity', 'HTPinf')"
   ]
  },
  {
   "cell_type": "markdown",
   "metadata": {},
   "source": [
    "2.5 gets rid of the `mapping` dictionary, using instead the SQLite row ids. It exposes this value with the `.id` property."
   ]
  },
  {
   "cell_type": "code",
   "execution_count": 4,
   "metadata": {},
   "outputs": [
    {
     "data": {
      "text/plain": [
       "[(7301, ('ecoinvent 3.7.1', '6f67d7bb34034ed6aef5f33536ae7781'))]"
      ]
     },
     "execution_count": 4,
     "metadata": {},
     "output_type": "execute_result"
    }
   ],
   "source": [
    "[(o.id, o.key) for o in bd.Database(\"ecoinvent 3.7.1\") if o['name'] == 'transport, passenger car, electric']"
   ]
  },
  {
   "cell_type": "markdown",
   "metadata": {},
   "source": [
    "New calling convention for creating LCA objects, as we need more flexibility, and the ability to run `bw2calc` with just data files and without a `bw2data` database."
   ]
  },
  {
   "cell_type": "code",
   "execution_count": 5,
   "metadata": {},
   "outputs": [],
   "source": [
    "fu, data_objs, _ = bd.prepare_lca_inputs({('ecoinvent 3.7.1', '6f67d7bb34034ed6aef5f33536ae7781'): 1}, method=tox)"
   ]
  },
  {
   "cell_type": "markdown",
   "metadata": {},
   "source": [
    "See [bw_processing](https://github.com/brightway-lca/bw_processing) for a description of these data packages."
   ]
  },
  {
   "cell_type": "code",
   "execution_count": 6,
   "metadata": {},
   "outputs": [
    {
     "data": {
      "text/plain": [
       "[ReadZipFS(PosixPath('/Users/cmutel/Library/Application Support/Brightway3/ecoinvent-371.040a8b7bfd29ab08dd0a24a6d8383a3d/processed/biosphere3.5d405d71.zip')),\n",
       " ReadZipFS(PosixPath('/Users/cmutel/Library/Application Support/Brightway3/ecoinvent-371.040a8b7bfd29ab08dd0a24a6d8383a3d/processed/ecoinvent-371.040a8b7b.zip')),\n",
       " ReadZipFS(PosixPath('/Users/cmutel/Library/Application Support/Brightway3/ecoinvent-371.040a8b7bfd29ab08dd0a24a6d8383a3d/processed/recipe-midpoint-e-v113hh.fd527ef1ee26c3a929822f74365a4036.zip'))]"
      ]
     },
     "execution_count": 6,
     "metadata": {},
     "output_type": "execute_result"
    }
   ],
   "source": [
    "data_objs"
   ]
  },
  {
   "cell_type": "code",
   "execution_count": 7,
   "metadata": {},
   "outputs": [],
   "source": [
    "lca = bc.LCA(fu, data_objs=data_objs)"
   ]
  },
  {
   "cell_type": "code",
   "execution_count": 8,
   "metadata": {},
   "outputs": [],
   "source": [
    "lca.lci()\n",
    "lca.lcia()"
   ]
  },
  {
   "cell_type": "code",
   "execution_count": 9,
   "metadata": {},
   "outputs": [
    {
     "data": {
      "text/plain": [
       "7.987990671102498"
      ]
     },
     "execution_count": 9,
     "metadata": {},
     "output_type": "execute_result"
    }
   ],
   "source": [
    "lca.score"
   ]
  },
  {
   "cell_type": "markdown",
   "metadata": {},
   "source": [
    "# Modifying the supply chain\n",
    "\n",
    "Let's test the impact of knowing specifically where our copper comes from"
   ]
  },
  {
   "cell_type": "code",
   "execution_count": 10,
   "metadata": {},
   "outputs": [
    {
     "data": {
      "text/plain": [
       "[(6498, ('ecoinvent 3.7.1', '00c41d5e9a1364c22ef9091479a65bbf'))]"
      ]
     },
     "execution_count": 10,
     "metadata": {},
     "output_type": "execute_result"
    }
   ],
   "source": [
    "[(o.id, o.key) for o in bd.Database(\"ecoinvent 3.7.1\") if o['name'] == 'market for copper concentrate, sulfide ore']"
   ]
  },
  {
   "cell_type": "code",
   "execution_count": 11,
   "metadata": {},
   "outputs": [
    {
     "data": {
      "text/plain": [
       "'market for copper concentrate, sulfide ore' (kilogram, GLO, None)"
      ]
     },
     "execution_count": 11,
     "metadata": {},
     "output_type": "execute_result"
    }
   ],
   "source": [
    "copper = bd.get_activity(('ecoinvent 3.7.1', '00c41d5e9a1364c22ef9091479a65bbf'))\n",
    "copper"
   ]
  },
  {
   "cell_type": "markdown",
   "metadata": {},
   "source": [
    "This is a market, with different mines (and their varying technologies, concentrations, and energy sources) over the world contributing."
   ]
  },
  {
   "cell_type": "code",
   "execution_count": 12,
   "metadata": {},
   "outputs": [
    {
     "data": {
      "text/plain": [
       "1.000000000000001"
      ]
     },
     "execution_count": 12,
     "metadata": {},
     "output_type": "execute_result"
    }
   ],
   "source": [
    "sum(exc['amount'] for exc in copper.technosphere())"
   ]
  },
  {
   "cell_type": "markdown",
   "metadata": {},
   "source": [
    "The tox impact per kilogram of copper varies a lot, though some of this is due to allocation across multiple metals."
   ]
  },
  {
   "cell_type": "code",
   "execution_count": 28,
   "metadata": {},
   "outputs": [
    {
     "name": "stdout",
     "output_type": "stream",
     "text": [
      "655.7145722086279 'copper mine operation and beneficiation, sulfide ore' (kilogram, AU, None)\n",
      "2589.9396543988964 'copper mine operation and beneficiation, sulfide ore' (kilogram, CA, None)\n",
      "487.10582138916044 'copper mine operation and beneficiation, sulfide ore' (kilogram, CL, None)\n",
      "445.0130143211017 'copper mine operation and beneficiation, sulfide ore' (kilogram, CN, None)\n",
      "1311.8694814528128 'copper mine operation and beneficiation, sulfide ore' (kilogram, ID, None)\n",
      "172.04622200980634 'copper mine operation and beneficiation, sulfide ore' (kilogram, KZ, None)\n",
      "611.7249552534782 'copper mine operation and beneficiation, sulfide ore' (kilogram, RU, None)\n",
      "1186.829820670955 'copper mine operation and beneficiation, sulfide ore' (kilogram, US, None)\n",
      "809.607986694068 'copper mine operation and beneficiation, sulfide ore' (kilogram, ZM, None)\n",
      "600.3206987624394 'gold-silver mine operation and beneficiation' (kilogram, CA-QC, None)\n",
      "1419.743025038946 'molybdenite mine operation' (kilogram, GLO, None)\n",
      "75.63473057168157 'smelting and refining of nickel concentrate, 16% Ni' (kilogram, GLO, None)\n",
      "331.4996153901838 'zinc mine operation' (kilogram, GLO, None)\n",
      "219.28011450612115 'primary zinc production from concentrate' (kilogram, RoW, None)\n",
      "833.8822670320626 'copper mine operation and beneficiation, sulfide ore' (kilogram, RoW, None)\n",
      "53.01313321746312 'cobalt production' (kilogram, GLO, None)\n"
     ]
    }
   ],
   "source": [
    "for exc in copper.technosphere():\n",
    "    lca.redo_lcia({exc.input.id: 1})\n",
    "    print(lca.score, exc.input)"
   ]
  },
  {
   "cell_type": "markdown",
   "metadata": {},
   "source": [
    "# Modification approach 1: Create new LCA for each possibility"
   ]
  },
  {
   "cell_type": "code",
   "execution_count": 13,
   "metadata": {},
   "outputs": [],
   "source": [
    "possibles = [exc.input for exc in copper.technosphere()]"
   ]
  },
  {
   "cell_type": "code",
   "execution_count": 15,
   "metadata": {},
   "outputs": [
    {
     "data": {
      "text/plain": [
       "['copper mine operation and beneficiation, sulfide ore' (kilogram, AU, None),\n",
       " 'copper mine operation and beneficiation, sulfide ore' (kilogram, CA, None),\n",
       " 'copper mine operation and beneficiation, sulfide ore' (kilogram, CL, None),\n",
       " 'copper mine operation and beneficiation, sulfide ore' (kilogram, CN, None),\n",
       " 'copper mine operation and beneficiation, sulfide ore' (kilogram, ID, None),\n",
       " 'copper mine operation and beneficiation, sulfide ore' (kilogram, KZ, None),\n",
       " 'copper mine operation and beneficiation, sulfide ore' (kilogram, RU, None),\n",
       " 'copper mine operation and beneficiation, sulfide ore' (kilogram, US, None),\n",
       " 'copper mine operation and beneficiation, sulfide ore' (kilogram, ZM, None),\n",
       " 'gold-silver mine operation and beneficiation' (kilogram, CA-QC, None),\n",
       " 'molybdenite mine operation' (kilogram, GLO, None),\n",
       " 'smelting and refining of nickel concentrate, 16% Ni' (kilogram, GLO, None),\n",
       " 'zinc mine operation' (kilogram, GLO, None),\n",
       " 'primary zinc production from concentrate' (kilogram, RoW, None),\n",
       " 'copper mine operation and beneficiation, sulfide ore' (kilogram, RoW, None),\n",
       " 'cobalt production' (kilogram, GLO, None)]"
      ]
     },
     "execution_count": 15,
     "metadata": {},
     "output_type": "execute_result"
    }
   ],
   "source": [
    "possibles"
   ]
  },
  {
   "cell_type": "markdown",
   "metadata": {},
   "source": [
    "Our approach here is simple: We want to set the inputs to the market to zero to everything except the one input we are considering:"
   ]
  },
  {
   "cell_type": "code",
   "execution_count": 29,
   "metadata": {},
   "outputs": [],
   "source": [
    "def create_replacement_vector_dp(parent, possibles, selected):\n",
    "    modified = bwp.create_datapackage(sum_intra_duplicates=True, sum_inter_duplicates=False)\n",
    "    # Everything is zero...\n",
    "    data = np.zeros(len(possibles))\n",
    "    indices = np.zeros(len(possibles), dtype=bwp.INDICES_DTYPE)\n",
    "    \n",
    "    for index, obj in enumerate(possibles):\n",
    "        if obj.id == selected:\n",
    "            # ... except the one input we selected. Minus sign because it is consumed.\n",
    "            # Could also be positive, and then use a `flip` vector. See \n",
    "            # bw_processing and matrix_utils for more details.\n",
    "            data[index] = -1\n",
    "        indices[index] = (obj.id, parent)\n",
    "        \n",
    "    modified.add_persistent_vector(\n",
    "        matrix=\"technosphere_matrix\",\n",
    "        indices_array=indices,\n",
    "        name=\"Substitute global copper mix\",\n",
    "        data_array=data,\n",
    "    )\n",
    "    return modified"
   ]
  },
  {
   "cell_type": "markdown",
   "metadata": {},
   "source": [
    "To use this new substituting data package, we just add it to the list of other data packages (but at the end, so it has the final word)."
   ]
  },
  {
   "cell_type": "code",
   "execution_count": 30,
   "metadata": {},
   "outputs": [
    {
     "name": "stdout",
     "output_type": "stream",
     "text": [
      "7.7555770700264794 'copper mine operation and beneficiation, sulfide ore' (kilogram, AU, None)\n",
      "11.14631929710827 'copper mine operation and beneficiation, sulfide ore' (kilogram, CA, None)\n",
      "7.460194029583274 'copper mine operation and beneficiation, sulfide ore' (kilogram, CL, None)\n",
      "7.389906894877194 'copper mine operation and beneficiation, sulfide ore' (kilogram, CN, None)\n",
      "8.902843777110897 'copper mine operation and beneficiation, sulfide ore' (kilogram, ID, None)\n",
      "6.914925434803388 'copper mine operation and beneficiation, sulfide ore' (kilogram, KZ, None)\n",
      "7.679308583364266 'copper mine operation and beneficiation, sulfide ore' (kilogram, RU, None)\n",
      "8.6838008875667 'copper mine operation and beneficiation, sulfide ore' (kilogram, US, None)\n",
      "8.026016270400383 'copper mine operation and beneficiation, sulfide ore' (kilogram, ZM, None)\n",
      "7.659161249183263 'gold-silver mine operation and beneficiation' (kilogram, CA-QC, None)\n",
      "9.091221629458627 'molybdenite mine operation' (kilogram, GLO, None)\n",
      "6.749677108045095 'smelting and refining of nickel concentrate, 16% Ni' (kilogram, GLO, None)\n",
      "7.163751998514035 'zinc mine operation' (kilogram, GLO, None)\n",
      "6.9821295490803115 'primary zinc production from concentrate' (kilogram, RoW, None)\n",
      "8.067193284993682 'copper mine operation and beneficiation, sulfide ore' (kilogram, RoW, None)\n",
      "6.706969655839139 'cobalt production' (kilogram, GLO, None)\n"
     ]
    }
   ],
   "source": [
    "for supplier in possibles:\n",
    "    dp = create_replacement_vector_dp(copper.id, possibles, supplier.id)\n",
    "    \n",
    "    lca = bc.LCA(fu, data_objs=data_objs + [dp])\n",
    "    lca.lci()\n",
    "    lca.lcia()\n",
    "    \n",
    "    print(lca.score, supplier)"
   ]
  },
  {
   "cell_type": "markdown",
   "metadata": {},
   "source": [
    "# Modification approach 2: Array of possible suppliers\n",
    "\n",
    "We can reuse the LCA object (though the technosphere matrix will be automatically regenerated) we use arrays instead of vectors.\n",
    "\n",
    "This is an evolution of the [presamples](https://github.com/PascalLesage/presamples/) approach. One big change versus `presamples` is that we no can add whatever rows, columns, or values we want to the matrix, without needing to create dummy values to be modified later."
   ]
  },
  {
   "cell_type": "code",
   "execution_count": 18,
   "metadata": {},
   "outputs": [],
   "source": [
    "def create_replacement_array_dp(parent, possibles):\n",
    "    modified = bwp.create_datapackage(sum_intra_duplicates=True, sum_inter_duplicates=False)\n",
    "    data = np.diag(np.ones(len(possibles))) * -1\n",
    "    indices = np.zeros(len(possibles), dtype=bwp.INDICES_DTYPE)\n",
    "    \n",
    "    for index, obj in enumerate(possibles):\n",
    "        indices[index] = (obj.id, parent)\n",
    "                \n",
    "    modified.add_persistent_array(\n",
    "        matrix=\"technosphere_matrix\",\n",
    "        indices_array=indices,\n",
    "        name=\"Substitute global copper mix\",\n",
    "        data_array=data,\n",
    "    )\n",
    "    return modified"
   ]
  },
  {
   "cell_type": "markdown",
   "metadata": {},
   "source": [
    "Arrays lets us express multiple scenarios or system configurations in one data format. Each column is a different configuration."
   ]
  },
  {
   "cell_type": "code",
   "execution_count": 19,
   "metadata": {},
   "outputs": [
    {
     "data": {
      "text/plain": [
       "array([[-1., -0., -0., -0., -0., -0., -0., -0., -0., -0.],\n",
       "       [-0., -1., -0., -0., -0., -0., -0., -0., -0., -0.],\n",
       "       [-0., -0., -1., -0., -0., -0., -0., -0., -0., -0.],\n",
       "       [-0., -0., -0., -1., -0., -0., -0., -0., -0., -0.],\n",
       "       [-0., -0., -0., -0., -1., -0., -0., -0., -0., -0.],\n",
       "       [-0., -0., -0., -0., -0., -1., -0., -0., -0., -0.],\n",
       "       [-0., -0., -0., -0., -0., -0., -1., -0., -0., -0.],\n",
       "       [-0., -0., -0., -0., -0., -0., -0., -1., -0., -0.],\n",
       "       [-0., -0., -0., -0., -0., -0., -0., -0., -1., -0.],\n",
       "       [-0., -0., -0., -0., -0., -0., -0., -0., -0., -1.]])"
      ]
     },
     "execution_count": 19,
     "metadata": {},
     "output_type": "execute_result"
    }
   ],
   "source": [
    "np.diag(np.ones(10)) * -1"
   ]
  },
  {
   "cell_type": "markdown",
   "metadata": {},
   "source": [
    "When using these configurations, we can just iterate through the LCA object with `next`. The iteration order for each data package is controlled by its [policies](https://github.com/brightway-lca/bw_processing#policies)."
   ]
  },
  {
   "cell_type": "code",
   "execution_count": 20,
   "metadata": {},
   "outputs": [
    {
     "name": "stdout",
     "output_type": "stream",
     "text": [
      "6.706969655839139 'copper mine operation and beneficiation, sulfide ore' (kilogram, AU, None)\n",
      "7.7555770700264794 'copper mine operation and beneficiation, sulfide ore' (kilogram, CA, None)\n",
      "7.659161249183263 'copper mine operation and beneficiation, sulfide ore' (kilogram, CL, None)\n",
      "8.026016270400383 'copper mine operation and beneficiation, sulfide ore' (kilogram, CN, None)\n",
      "7.7555770700264794 'copper mine operation and beneficiation, sulfide ore' (kilogram, ID, None)\n",
      "7.460194029583274 'copper mine operation and beneficiation, sulfide ore' (kilogram, KZ, None)\n",
      "9.091221629458627 'copper mine operation and beneficiation, sulfide ore' (kilogram, RU, None)\n",
      "8.026016270400383 'copper mine operation and beneficiation, sulfide ore' (kilogram, US, None)\n",
      "6.9821295490803115 'copper mine operation and beneficiation, sulfide ore' (kilogram, ZM, None)\n",
      "9.091221629458627 'gold-silver mine operation and beneficiation' (kilogram, CA-QC, None)\n",
      "8.902843777110897 'molybdenite mine operation' (kilogram, GLO, None)\n",
      "7.389906894877194 'smelting and refining of nickel concentrate, 16% Ni' (kilogram, GLO, None)\n",
      "8.026016270400383 'zinc mine operation' (kilogram, GLO, None)\n",
      "8.6838008875667 'primary zinc production from concentrate' (kilogram, RoW, None)\n",
      "6.706969655839139 'copper mine operation and beneficiation, sulfide ore' (kilogram, RoW, None)\n",
      "8.6838008875667 'cobalt production' (kilogram, GLO, None)\n"
     ]
    }
   ],
   "source": [
    "lca = bc.LCA(fu, data_objs=data_objs + [create_replacement_array_dp(copper.id, possibles)], use_arrays=True)\n",
    "lca.lci()\n",
    "lca.lcia()\n",
    "\n",
    "for supplier in possibles:\n",
    "    print(lca.score, supplier)\n",
    "    next(lca)"
   ]
  },
  {
   "cell_type": "markdown",
   "metadata": {},
   "source": [
    "The correct approach for you will depend on your problem, how imperatirve or functional you are feeling that day, your mood, etc ;)\n",
    "\n",
    "See the other notebooks for more possibilities introduced in Brightway 2.5."
   ]
  },
  {
   "cell_type": "code",
   "execution_count": null,
   "metadata": {},
   "outputs": [],
   "source": []
  }
 ],
 "metadata": {
  "kernelspec": {
   "display_name": "Python 3 (ipykernel)",
   "language": "python",
   "name": "python3"
  },
  "language_info": {
   "codemirror_mode": {
    "name": "ipython",
    "version": 3
   },
   "file_extension": ".py",
   "mimetype": "text/x-python",
   "name": "python",
   "nbconvert_exporter": "python",
   "pygments_lexer": "ipython3",
   "version": "3.9.7"
  }
 },
 "nbformat": 4,
 "nbformat_minor": 4
}
