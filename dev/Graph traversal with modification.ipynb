{
 "cells": [
  {
   "cell_type": "markdown",
   "metadata": {},
   "source": [
    "# Import development libraries"
   ]
  },
  {
   "cell_type": "code",
   "execution_count": 13,
   "metadata": {},
   "outputs": [],
   "source": [
    "import bw2data as bd\n",
    "import bw2calc as bc\n",
    "import bw_processing as bwp\n",
    "import numpy as np"
   ]
  },
  {
   "cell_type": "code",
   "execution_count": 14,
   "metadata": {},
   "outputs": [],
   "source": [
    "bd.projects.set_current(\"ecoinvent 3.7.1\")"
   ]
  },
  {
   "cell_type": "code",
   "execution_count": 15,
   "metadata": {},
   "outputs": [],
   "source": [
    "tox = ('ReCiPe Midpoint (E) V1.13', 'human toxicity', 'HTPinf')"
   ]
  },
  {
   "cell_type": "code",
   "execution_count": 16,
   "metadata": {},
   "outputs": [
    {
     "data": {
      "text/plain": [
       "[(7301, ('ecoinvent 3.7.1', '6f67d7bb34034ed6aef5f33536ae7781'))]"
      ]
     },
     "execution_count": 16,
     "metadata": {},
     "output_type": "execute_result"
    }
   ],
   "source": [
    "[(o.id, o.key) for o in bd.Database(\"ecoinvent 3.7.1\") if o['name'] == 'transport, passenger car, electric']"
   ]
  },
  {
   "cell_type": "markdown",
   "metadata": {},
   "source": [
    "# Pre-analyze the database and identify market-like activities"
   ]
  },
  {
   "cell_type": "code",
   "execution_count": 5,
   "metadata": {},
   "outputs": [],
   "source": [
    "from bw2data.backends.schema import ActivityDataset as AD, ExchangeDataset as ED"
   ]
  },
  {
   "cell_type": "code",
   "execution_count": 6,
   "metadata": {},
   "outputs": [],
   "source": [
    "def get_count_similar_exchanges(act):\n",
    "    return (\n",
    "        ED.select()\n",
    "            .join(AD, on=((ED.input_database == AD.database) & (ED.input_code == AD.code)))\n",
    "            .where((ED.output_code == act['code']) &\n",
    "                   (ED.input_code != act['code']) &\n",
    "                   (ED.output_database == act['database']) &\n",
    "                   (AD.product == act['reference product'])\n",
    "                  )\n",
    "            .count()\n",
    "    )"
   ]
  },
  {
   "cell_type": "code",
   "execution_count": 7,
   "metadata": {},
   "outputs": [],
   "source": [
    "markets = {obj.id for obj in bd.Database('ecoinvent 3.7.1') if get_count_similar_exchanges(obj) > 1}"
   ]
  },
  {
   "cell_type": "code",
   "execution_count": 8,
   "metadata": {},
   "outputs": [
    {
     "data": {
      "text/plain": [
       "3587"
      ]
     },
     "execution_count": 8,
     "metadata": {},
     "output_type": "execute_result"
    }
   ],
   "source": [
    "len(markets)"
   ]
  },
  {
   "cell_type": "code",
   "execution_count": 9,
   "metadata": {},
   "outputs": [
    {
     "data": {
      "text/plain": [
       "['natural gas, high pressure, import from NL' (cubic meter, CH, None),\n",
       " 'fibre production, viscose' (kilogram, GLO, None),\n",
       " 'natural gas, high pressure, import from NL' (cubic meter, IT, None),\n",
       " 'primary zinc production from concentrate' (kilogram, RoW, None),\n",
       " 'hard coal, import from ZA' (kilogram, IN, None),\n",
       " 'folding boxboard carton production' (kilogram, RoW, None),\n",
       " 'natural gas, high pressure, import from NL' (cubic meter, DE, None),\n",
       " 'tap water production, ultrafiltration treatment' (kilogram, RoW, None),\n",
       " 'natural gas, high pressure, import from DZ' (cubic meter, IT, None),\n",
       " 'zinc mine operation' (kilogram, GLO, None),\n",
       " 'natural gas, high pressure, import from DZ' (cubic meter, ES, None),\n",
       " 'sulfate pulp production, from eucalyptus, bleached' (kilowatt hour, RoW, None),\n",
       " 'natural gas, high pressure, import from NL' (cubic meter, DK, None),\n",
       " 'particleboard production, uncoated, average glue mix' (megajoule, RoW, None),\n",
       " 'natural gas, high pressure, import from NL' (cubic meter, FR, None),\n",
       " 'natural gas, high pressure, import from NL' (cubic meter, GB, None),\n",
       " 'natural gas, high pressure, import from NL' (cubic meter, AT, None),\n",
       " 'zinc mine operation' (kilogram, GLO, None),\n",
       " 'cobalt production' (kilogram, GLO, None),\n",
       " 'natural gas, high pressure, import from NL' (cubic meter, PL, None),\n",
       " 'sulfate pulp production, from hardwood, bleached' (kilowatt hour, RoW, None),\n",
       " 'natural gas, high pressure, import from NL' (cubic meter, BE, None),\n",
       " 'sulfate pulp production, from softwood, bleached' (kilowatt hour, RoW, None),\n",
       " 'natural gas, high pressure, import from DZ' (cubic meter, FR, None),\n",
       " 'tap water production, conventional with biological treatment' (kilogram, RoW, None),\n",
       " 'cobalt production' (kilogram, GLO, None),\n",
       " 'natural gas, high pressure, import from DZ' (cubic meter, CH, None),\n",
       " 'folding boxboard carton production' (kilogram, RER, None),\n",
       " 'sulfate pulp production, from softwood, unbleached' (kilowatt hour, RoW, None),\n",
       " 'tap water production, underground water with chemical treatment' (kilogram, RoW, None)]"
      ]
     },
     "execution_count": 9,
     "metadata": {},
     "output_type": "execute_result"
    }
   ],
   "source": [
    "[x for x in bd.Database('ecoinvent 3.7.1') \n",
    "     if 'market' not in x['name'].lower() \n",
    "     and 'electricity' not in x['name'].lower() \n",
    "     and x.id in markets]"
   ]
  },
  {
   "cell_type": "markdown",
   "metadata": {},
   "source": [
    "Ideally, we would filter this down to see which markets present meaningful differences."
   ]
  },
  {
   "cell_type": "markdown",
   "metadata": {},
   "source": [
    "# Graph traversal of this LCA\n",
    "\n",
    "Electric car, human toxicity\n",
    "\n",
    "https://2.docs.brightway.dev/lca.html#graph-traversal"
   ]
  },
  {
   "cell_type": "code",
   "execution_count": 17,
   "metadata": {},
   "outputs": [],
   "source": [
    "fu, data_objs, _ = bd.prepare_lca_inputs({('ecoinvent 3.7.1', '6f67d7bb34034ed6aef5f33536ae7781'): 1}, method=tox)"
   ]
  },
  {
   "cell_type": "code",
   "execution_count": 18,
   "metadata": {},
   "outputs": [],
   "source": [
    "lca = bc.LCA(fu, data_objs=data_objs)"
   ]
  },
  {
   "cell_type": "code",
   "execution_count": 19,
   "metadata": {},
   "outputs": [],
   "source": [
    "lca.lci()\n",
    "lca.lcia()"
   ]
  },
  {
   "cell_type": "code",
   "execution_count": 20,
   "metadata": {},
   "outputs": [
    {
     "data": {
      "text/plain": [
       "7.987990671102498"
      ]
     },
     "execution_count": 20,
     "metadata": {},
     "output_type": "execute_result"
    }
   ],
   "source": [
    "lca.score"
   ]
  },
  {
   "cell_type": "code",
   "execution_count": 21,
   "metadata": {},
   "outputs": [],
   "source": [
    "gt = bc.GraphTraversal()\n",
    "gt_results = gt.calculate(lca, cutoff=0.005, max_calc=1e5)"
   ]
  },
  {
   "cell_type": "code",
   "execution_count": 22,
   "metadata": {},
   "outputs": [
    {
     "data": {
      "text/plain": [
       "4005"
      ]
     },
     "execution_count": 22,
     "metadata": {},
     "output_type": "execute_result"
    }
   ],
   "source": [
    "gt_results['counter']"
   ]
  },
  {
   "cell_type": "code",
   "execution_count": 23,
   "metadata": {},
   "outputs": [
    {
     "data": {
      "text/plain": [
       "(340, 745)"
      ]
     },
     "execution_count": 23,
     "metadata": {},
     "output_type": "execute_result"
    }
   ],
   "source": [
    "len(gt_results['nodes']), len(gt_results['edges'])"
   ]
  },
  {
   "cell_type": "code",
   "execution_count": 24,
   "metadata": {},
   "outputs": [
    {
     "data": {
      "text/plain": [
       "{'to': 11269,\n",
       " 'from': 1067,\n",
       " 'amount': 5.717765640811612e-09,\n",
       " 'exc_amount': 0.09144452214241028,\n",
       " 'impact': 0.07269294239417574}"
      ]
     },
     "execution_count": 24,
     "metadata": {},
     "output_type": "execute_result"
    }
   ],
   "source": [
    "gt_results['edges'][100]"
   ]
  },
  {
   "cell_type": "code",
   "execution_count": 25,
   "metadata": {},
   "outputs": [
    {
     "data": {
      "text/plain": [
       "{'amount': 1, 'cum': 7.987990671102498, 'ind': 7.987990671102498e-06}"
      ]
     },
     "execution_count": 25,
     "metadata": {},
     "output_type": "execute_result"
    }
   ],
   "source": [
    "gt_results['nodes'][-1]"
   ]
  },
  {
   "cell_type": "markdown",
   "metadata": {},
   "source": [
    "# Find most important markets in this graph"
   ]
  },
  {
   "cell_type": "code",
   "execution_count": 26,
   "metadata": {},
   "outputs": [],
   "source": [
    "markets_as_indices = {lca.dicts.activity[i] for i in markets}"
   ]
  },
  {
   "cell_type": "code",
   "execution_count": 27,
   "metadata": {},
   "outputs": [
    {
     "data": {
      "text/plain": [
       "104"
      ]
     },
     "execution_count": 27,
     "metadata": {},
     "output_type": "execute_result"
    }
   ],
   "source": [
    "market_importance = sorted([(v['cum'], k) for k, v in gt_results['nodes'].items() if k in markets_as_indices], reverse=True)\n",
    "len(market_importance)"
   ]
  },
  {
   "cell_type": "code",
   "execution_count": 28,
   "metadata": {},
   "outputs": [],
   "source": [
    "def market_inputs(act):\n",
    "    return [exc.input for exc in act.technosphere() if exc.input['reference product'] == exc.output['reference product']]"
   ]
  },
  {
   "cell_type": "code",
   "execution_count": 29,
   "metadata": {},
   "outputs": [],
   "source": [
    "def sum_market_inputs(act):\n",
    "    return sum([exc['amount'] for exc in act.technosphere() if exc.input['reference product'] == exc.output['reference product']])"
   ]
  },
  {
   "cell_type": "code",
   "execution_count": 30,
   "metadata": {},
   "outputs": [
    {
     "data": {
      "text/plain": [
       "[(3.2523921131737827,\n",
       "  7589,\n",
       "  0.9999999999999993,\n",
       "  19,\n",
       "  'market for copper, cathode' (kilogram, GLO, None)),\n",
       " (2.508005740187961,\n",
       "  495,\n",
       "  0.9999999999999996,\n",
       "  8,\n",
       "  'market group for electricity, low voltage' (kilowatt hour, GLO, None)),\n",
       " (2.145363505188869,\n",
       "  13234,\n",
       "  1.0000000000000004,\n",
       "  2,\n",
       "  'market for battery cell, Li-ion' (kilogram, GLO, None)),\n",
       " (2.0428948061282557,\n",
       "  17773,\n",
       "  1.0000000000000002,\n",
       "  7,\n",
       "  'market for copper, anode' (kilogram, GLO, None)),\n",
       " (1.9902980928882927,\n",
       "  7915,\n",
       "  1.0000000000000004,\n",
       "  2,\n",
       "  'market for anode, graphite, for lithium-ion battery' (kilogram, GLO, None)),\n",
       " (1.3751037128882988,\n",
       "  2176,\n",
       "  1.000000000000001,\n",
       "  16,\n",
       "  'market for copper concentrate, sulfide ore' (kilogram, GLO, None)),\n",
       " (1.2392523987707136,\n",
       "  15892,\n",
       "  1.0000000000000002,\n",
       "  40,\n",
       "  'market group for electricity, low voltage' (kilowatt hour, RAS, None)),\n",
       " (1.2113578656449906,\n",
       "  11269,\n",
       "  0.9999999999999999,\n",
       "  17,\n",
       "  'market for gold' (kilogram, GLO, None)),\n",
       " (0.5685996213602118,\n",
       "  7568,\n",
       "  0.999999999999999,\n",
       "  2,\n",
       "  'market group for electricity, low voltage' (kilowatt hour, RNA, None)),\n",
       " (0.5341457930729487,\n",
       "  6885,\n",
       "  1.0,\n",
       "  9,\n",
       "  'market group for electricity, low voltage' (kilowatt hour, US, None))]"
      ]
     },
     "execution_count": 30,
     "metadata": {},
     "output_type": "execute_result"
    }
   ],
   "source": [
    "[(\n",
    "    x, \n",
    "    y, \n",
    "    sum_market_inputs(bd.get_activity(lca.dicts.activity.reversed[y])),\n",
    "    len(market_inputs(bd.get_activity(lca.dicts.activity.reversed[y]))),\n",
    "    bd.get_activity(lca.dicts.activity.reversed[y]),\n",
    ") for x, y in market_importance[:10]]"
   ]
  },
  {
   "cell_type": "markdown",
   "metadata": {},
   "source": [
    "# Creating possibility arrays"
   ]
  },
  {
   "cell_type": "code",
   "execution_count": 28,
   "metadata": {},
   "outputs": [],
   "source": [
    "def create_replacement_array_dp(activities):\n",
    "    modified = bwp.create_datapackage(combinatorial=True)\n",
    "    \n",
    "    for activity in activities:\n",
    "        possibles = market_inputs(activity)\n",
    "        data = np.diag(np.ones(len(possibles))) * -1 / sum_market_inputs(activity)\n",
    "        indices = np.zeros(len(possibles), dtype=bwp.INDICES_DTYPE)\n",
    "    \n",
    "        for index, obj in enumerate(possibles):\n",
    "            indices[index] = (obj.id, activity.id)\n",
    "                \n",
    "        modified.add_persistent_array(\n",
    "            matrix=\"technosphere_matrix\",\n",
    "            indices_array=indices,\n",
    "            name=f\"Possibilities for {activity}\",\n",
    "            data_array=data,\n",
    "        )\n",
    "    return modified"
   ]
  },
  {
   "cell_type": "code",
   "execution_count": 29,
   "metadata": {},
   "outputs": [],
   "source": [
    "replacements = create_replacement_array_dp(\n",
    "    [bd.get_activity(lca.dicts.activity.reversed[y]) \n",
    "     for _, y in market_importance[:3]]\n",
    ")"
   ]
  },
  {
   "cell_type": "code",
   "execution_count": 30,
   "metadata": {},
   "outputs": [],
   "source": [
    "lca = bc.LCA(\n",
    "    fu, \n",
    "    data_objs=(\n",
    "        data_objs + \n",
    "        [replacements]\n",
    "    ),\n",
    "    use_arrays=True\n",
    ")"
   ]
  },
  {
   "cell_type": "code",
   "execution_count": 31,
   "metadata": {},
   "outputs": [],
   "source": [
    "lca.lci()\n",
    "lca.lcia()"
   ]
  },
  {
   "cell_type": "code",
   "execution_count": 32,
   "metadata": {},
   "outputs": [
    {
     "name": "stdout",
     "output_type": "stream",
     "text": [
      "11.01581157934838\n",
      "2.921496096865127\n",
      "4.892383606318661\n",
      "4.696088936385785\n",
      "4.9973993493367725\n",
      "4.737278039002138\n",
      "3.2096592191918054\n",
      "4.954830358643444\n",
      "17.941941190688087\n",
      "9.799877906655114\n",
      "11.826597960847552\n",
      "11.624324182793492\n",
      "11.91589394959018\n",
      "11.668296945502446\n",
      "10.102497794587574\n",
      "11.84454063915459\n",
      "11.057995522058476\n",
      "2.9634155651259415\n",
      "4.934636874614836\n",
      "4.7383064146118725\n",
      "5.039556486500309\n",
      "4.779512344527402\n",
      "3.2516658528957625\n",
      "4.99681224029698\n",
      "12.45541495636949\n",
      "4.3511938453308385\n",
      "6.333681745631473\n",
      "6.136144758655459\n",
      "6.435429843176849\n",
      "6.177912357503262\n",
      "4.642361190447372\n",
      "6.386878041643239\n",
      "12.662660981543459\n",
      "4.55693426778861\n",
      "6.541111154802263\n",
      "6.343393420682683\n",
      "6.642389979650333\n",
      "6.385244688818056\n",
      "4.84853680279185\n",
      "6.59297665394694\n",
      "11.057064109605648\n",
      "2.962492567027934\n",
      "4.933705895088073\n",
      "4.7373762865302895\n",
      "5.038627591500575\n",
      "4.7785818325098735\n",
      "3.2507408437387673\n",
      "4.995887220495532\n",
      "11.358111277472048\n",
      "3.2614602914278095\n",
      "5.2351013693021775\n",
      "5.038511779680031\n",
      "5.339339860096596\n",
      "5.079838338170874\n",
      "3.550337073992554\n",
      "5.295348357822543\n",
      "14.182169547835539\n",
      "6.066029780411008\n",
      "8.062440799829142\n",
      "7.863412809883425\n",
      "8.160270010946054\n",
      "7.905874475245206\n",
      "6.3608018422317425\n",
      "8.104541939899065\n",
      "11.00364842901883\n",
      "2.90942958635992\n",
      "4.880216011383713\n",
      "4.68393214550007\n",
      "4.985259171298278\n",
      "4.725116298120569\n",
      "3.1975668914032673\n",
      "4.942740757116962\n",
      "11.31436473971704\n",
      "3.218016817934619\n",
      "5.191304896662707\n",
      "4.994753107283001\n",
      "5.295642654129689\n",
      "5.036062076589794\n",
      "3.506802239450347\n",
      "5.251832961564725\n",
      "11.053820328784552\n",
      "2.9592409520039755\n",
      "4.9304352994801315\n",
      "4.734107773334583\n",
      "5.035364803992438\n",
      "4.775312160962447\n",
      "3.247483472106138\n",
      "4.99263784811764\n",
      "11.057413121291164\n",
      "2.962838918030422\n",
      "4.934055119971352\n",
      "4.737725204069437\n",
      "5.038976028016979\n",
      "4.7789308915449284\n",
      "3.2510879317774\n",
      "4.9962342059997304\n",
      "11.566631841850851\n",
      "3.468527314092714\n",
      "5.443853117687788\n",
      "5.247083137169926\n",
      "5.5476185783737515\n",
      "5.288493579036229\n",
      "3.75783987727384\n",
      "5.5027604462510205\n",
      "11.41386056201279\n",
      "3.316822434494361\n",
      "5.290913584036439\n",
      "5.094275800868454\n",
      "5.395025585858219\n",
      "5.13562477896884\n",
      "3.6058156760500992\n",
      "5.350802388436617\n",
      "11.319036132401676\n",
      "3.2226536988118433\n",
      "5.195979982629201\n",
      "4.999424105669264\n",
      "5.300307171667367\n",
      "5.040734963577347\n",
      "3.511448948466294\n",
      "5.256478059924745\n",
      "11.083676417132345\n",
      "2.988865498173917\n",
      "4.960306626158118\n",
      "4.7639527146793865\n",
      "5.065168747727912\n",
      "4.805169225540013\n",
      "3.277171200292855\n",
      "5.022317656124511\n",
      "10.928329995093419\n",
      "2.8346463840763705\n",
      "4.804821859848892\n",
      "4.608603394156363\n",
      "4.9100357282037095\n",
      "4.649757198825756\n",
      "3.122625941589105\n",
      "4.86783036430815\n",
      "10.928329995093419\n",
      "2.8346463840763705\n",
      "4.804821859848892\n",
      "4.608603394156363\n",
      "4.9100357282037095\n",
      "4.649757198825756\n",
      "3.122625941589105\n",
      "4.86783036430815\n",
      "10.928329995093419\n",
      "2.8346463840763705\n",
      "4.804821859848892\n",
      "4.608603394156363\n",
      "4.9100357282037095\n",
      "4.649757198825756\n",
      "3.122625941589105\n",
      "4.86783036430815\n",
      "11.016177692235576\n",
      "2.9218622780168424\n",
      "4.892749770848663\n",
      "4.696455102574561\n",
      "4.9977655129818555\n",
      "4.73764420484252\n",
      "3.210025397913479\n",
      "4.95519652264788\n",
      "17.94229989885802\n",
      "9.800236683466707\n",
      "11.826956720572928\n",
      "11.62468294422737\n",
      "11.916252708563473\n",
      "11.66865570656461\n",
      "10.102856568848143\n",
      "11.844899398729757\n",
      "11.058361589848532\n",
      "2.963781701154447\n",
      "4.935002994025713\n",
      "4.738672535681137\n",
      "5.0399226050274395\n",
      "4.779878465248277\n",
      "3.252031986494498\n",
      "4.99717835918478\n",
      "12.455779530184897\n",
      "4.351558487468857\n",
      "6.334046371056214\n",
      "6.1365093857488064\n",
      "6.435794467744524\n",
      "6.178276984243473\n",
      "4.642725830130935\n",
      "6.387242666620541\n",
      "12.663025333784987\n",
      "4.557298688446845\n",
      "6.541475558713007\n",
      "6.343757826265543\n",
      "6.642754382706974\n",
      "6.385609094046664\n",
      "4.848901220989017\n",
      "6.593341057420989\n",
      "11.057430178389716\n",
      "2.962858704048256\n",
      "4.934072015491334\n",
      "4.737742408591889\n",
      "5.038993711020112\n",
      "4.778947954223095\n",
      "3.2511069783294166\n",
      "4.996253340375708\n",
      "11.358477024407\n",
      "3.2618261066197993\n",
      "5.235467167855856\n",
      "5.0388775798943035\n",
      "5.3397056577722575\n",
      "5.080204138035733\n",
      "3.5507028867494514\n",
      "5.295714155869411\n",
      "14.182532275573118\n",
      "6.066392576581028\n",
      "8.062803579166173\n",
      "7.863775590901853\n",
      "8.160632789458955\n",
      "7.90623725590461\n",
      "6.36116463591657\n",
      "8.10490471888218\n",
      "11.004014554909615\n",
      "2.9097957805007875\n",
      "4.8805821889070335\n",
      "4.684298324681741\n",
      "4.985625347936626\n",
      "4.725482476953957\n",
      "3.197933083114794\n",
      "4.943106934114159\n",
      "11.314730533421406\n",
      "3.2183826798920445\n",
      "5.191670741985145\n",
      "4.995118954265674\n",
      "5.2960084985732925\n",
      "5.0364279232232185\n",
      "3.5071680989735006\n",
      "5.252198806377992\n",
      "11.054186401036628\n",
      "2.959607092524648\n",
      "4.930801423376057\n",
      "4.734473898889592\n",
      "5.035730927004141\n",
      "4.77567828616893\n",
      "3.2478496101960346\n",
      "4.99300397149004\n",
      "11.057779189702101\n",
      "2.9632050546779123\n",
      "4.934421240001699\n",
      "4.738091325758121\n",
      "5.0393421471635875\n",
      "4.779297012885227\n",
      "3.251454065995194\n",
      "4.996600325506992\n",
      "11.566997365856565\n",
      "3.468892906384084\n",
      "5.444218693322653\n",
      "5.247448714467302\n",
      "5.5479841531343785\n",
      "5.288859155983409\n",
      "3.758205467125858\n",
      "5.503126021390243\n",
      "11.414226249346243\n",
      "3.3171881900909064\n",
      "5.291279322990195\n",
      "5.094641541483281\n",
      "5.395391323934992\n",
      "5.135990519234049\n",
      "3.606181429210469\n",
      "5.351168126886561\n",
      "11.319401921111861\n",
      "3.223019555777832\n",
      "5.196345822959286\n",
      "4.999789947659683\n",
      "5.300673011118671\n",
      "5.04110080521848\n",
      "3.5118148029978413\n",
      "5.256843899745889\n",
      "11.084042457465358\n",
      "2.9892316068048417\n",
      "4.9606727181555454\n",
      "4.764318808336796\n",
      "5.065534838841336\n",
      "4.805535318848648\n",
      "3.2775373064914954\n",
      "5.022683747599819\n",
      "10.92869620150706\n",
      "2.8350126587187825\n",
      "4.805188117882997\n",
      "4.608969653847858\n",
      "4.910401985351621\n",
      "4.6501234581693165\n",
      "3.1229922138041033\n",
      "4.868196621812188\n",
      "10.92869620150706\n",
      "2.8350126587187825\n",
      "4.805188117882997\n",
      "4.608969653847858\n",
      "4.910401985351621\n",
      "4.6501234581693165\n",
      "3.1229922138041033\n",
      "4.868196621812188\n",
      "10.92869620150706\n",
      "2.8350126587187825\n",
      "4.805188117882997\n",
      "4.608969653847858\n",
      "4.910401985351621\n",
      "4.6501234581693165\n",
      "3.1229922138041033\n",
      "4.868196621812188\n"
     ]
    }
   ],
   "source": [
    "while True:\n",
    "    try:\n",
    "        print(lca.score)\n",
    "        next(lca)\n",
    "    except StopIteration:\n",
    "        break"
   ]
  },
  {
   "cell_type": "code",
   "execution_count": null,
   "metadata": {},
   "outputs": [],
   "source": []
  }
 ],
 "metadata": {
  "kernelspec": {
   "display_name": "Python 3 (ipykernel)",
   "language": "python",
   "name": "python3"
  },
  "language_info": {
   "codemirror_mode": {
    "name": "ipython",
    "version": 3
   },
   "file_extension": ".py",
   "mimetype": "text/x-python",
   "name": "python",
   "nbconvert_exporter": "python",
   "pygments_lexer": "ipython3",
   "version": "3.9.7"
  }
 },
 "nbformat": 4,
 "nbformat_minor": 4
}
