{
 "cells": [
  {
   "cell_type": "markdown",
   "id": "elementary-activation",
   "metadata": {},
   "source": [
    "# Brightway 2.5 demonstration\n",
    "\n",
    "## Installation\n",
    "\n",
    "* Install [conda](https://docs.conda.io/en/latest/) or miniconda. We use conda as it has a [very fast sparse library](https://www.pardiso-project.org/).\n",
    "* Create a new conda environment using conda or (better) [mamba](https://mamba-framework.readthedocs.io/en/latest/):\n",
    "\n",
    "```\n",
    "    mamba create -y -n bw25test -c conda-forge -c cmutel -c bsteubing -c haasad -c pascallesage pypardiso python=3.8 fs scipy numpy pandas stats_arrays appdirs pip\n",
    "```\n",
    "\n",
    "* Activate this environment following the instructions for your OS\n",
    "\n",
    "* In your `bw25test` environment, install the new development libraries directly from github:\n",
    "\n",
    "```\n",
    "    pip install https://github.com/brightway-lca/bw_processing/archive/master.zip\n",
    "    pip install https://github.com/brightway-lca/matrix_utils/archive/main.zip\n",
    "    pip install https://github.com/brightway-lca/brightway2-calc/archive/master.zip\n",
    "```"
   ]
  },
  {
   "cell_type": "markdown",
   "id": "colonial-ministry",
   "metadata": {},
   "source": [
    "## Notebook setup\n",
    "\n",
    "Import new libraries ([bw_processing](https://github.com/brightway-lca/bw_processing) and [matrix_utils](https://github.com/brightway-lca/matrix_utils))"
   ]
  },
  {
   "cell_type": "code",
   "execution_count": 1,
   "id": "improved-blackberry",
   "metadata": {},
   "outputs": [],
   "source": [
    "import numpy as np\n",
    "import bw_processing as bwp\n",
    "from bw2calc.lca import LCA"
   ]
  },
  {
   "cell_type": "markdown",
   "id": "still-confidentiality",
   "metadata": {},
   "source": [
    "Create a \"data package\" - a set of data resources used to construct matrices, with metadata on provenance, licensing, etc. Based on the Open Knowledge Foundation's [Data Package standard](https://specs.frictionlessdata.io/data-package/).\n",
    "\n",
    "Because we use [PyFilesystem2](https://docs.pyfilesystem.org/en/latest/), these files can be stored on many logical or virtual filesystems. In this case, we store data in memory."
   ]
  },
  {
   "cell_type": "code",
   "execution_count": 2,
   "id": "continuing-genesis",
   "metadata": {},
   "outputs": [],
   "source": [
    "dp = bwp.create_datapackage()"
   ]
  },
  {
   "cell_type": "markdown",
   "id": "worldwide-helena",
   "metadata": {},
   "source": [
    "In memory is the default, we could also make it explicit:\n",
    "\n",
    "```\n",
    "from fs.memoryfs import MemoryFS\n",
    "dp = bwp.create_datapackage(MemoryFS())\n",
    "```\n",
    "\n",
    "We can also store data on network drives, via FTP, on cloud platforms, etc. etc. There is a lot of potential here!"
   ]
  },
  {
   "cell_type": "markdown",
   "id": "stock-military",
   "metadata": {},
   "source": [
    "Add data. Each matrix (in this case) is constructed by one simple resource. We have the ability, however, to support more complex resource types :)"
   ]
  },
  {
   "cell_type": "code",
   "execution_count": 3,
   "id": "ongoing-container",
   "metadata": {},
   "outputs": [],
   "source": [
    "dp.add_persistent_vector(\n",
    "    matrix=\"technosphere_matrix\",\n",
    "    indices_array=np.array(\n",
    "        [(100, 100), (101, 101), (102, 102), (103, 103),  # Production\n",
    "         (100, 101), (101, 102), (101, 103), (102, 103)], # Inputs\n",
    "        dtype=bwp.INDICES_DTYPE  # Means first element is row, second is column\n",
    "    ),\n",
    "    flip_array=np.array([\n",
    "        False, False, False, False, # Production\n",
    "        True, True, True, True      # Inputs\n",
    "    ]),\n",
    "    data_array=np.array([\n",
    "        1, 1, 1, 1,  # Production\n",
    "        2, 4, 8, 16  # Inputs\n",
    "    ]),\n",
    ")\n",
    "dp.add_persistent_vector(\n",
    "    matrix=\"biosphere_matrix\",\n",
    "    indices_array=np.array(\n",
    "        [(200, 100), (200, 101), (200, 102), (200, 103), (201, 100), (201, 102)], dtype=bwp.INDICES_DTYPE\n",
    "    ),\n",
    "    data_array=np.arange(6),\n",
    ")\n",
    "dp.add_persistent_vector(\n",
    "    matrix=\"characterization_matrix\",\n",
    "    indices_array=np.array(\n",
    "        [(200, 200), (201, 201)], dtype=bwp.INDICES_DTYPE\n",
    "    ),\n",
    "    data_array=np.array([1, 10]),\n",
    ")"
   ]
  },
  {
   "cell_type": "markdown",
   "id": "simple-armstrong",
   "metadata": {},
   "source": [
    "Building an LCA is then as simple as the functional unit and the data packages"
   ]
  },
  {
   "cell_type": "code",
   "execution_count": 4,
   "id": "selective-checkout",
   "metadata": {},
   "outputs": [
    {
     "data": {
      "text/plain": [
       "6667.0"
      ]
     },
     "execution_count": 4,
     "metadata": {},
     "output_type": "execute_result"
    }
   ],
   "source": [
    "lca = LCA(demand={103: 1}, data_objs=[dp])\n",
    "lca.lci()\n",
    "lca.lcia()\n",
    "lca.score"
   ]
  },
  {
   "cell_type": "markdown",
   "id": "closed-polymer",
   "metadata": {},
   "source": [
    "Let's increase the complexity. Sometimes we need to generate data on the fly. This we can do through \"interfaces\", Python code that generates data or wraps other data sources. These interfaces follow a very simple [bw_processing standard API](https://github.com/brightway-lca/bw_processing#persistent-versus-dynamic).\n",
    "\n",
    "Intefaces can be classes:"
   ]
  },
  {
   "cell_type": "code",
   "execution_count": null,
   "id": "crude-curtis",
   "metadata": {},
   "outputs": [],
   "source": [
    "class ExampleVectorInterface:\n",
    "    def __next__(self):\n",
    "        return np.array([1, 1, 1, 1, 2, 4, 8, 16], dtype=np.float64)"
   ]
  },
  {
   "cell_type": "code",
   "execution_count": null,
   "id": "center-jesus",
   "metadata": {},
   "outputs": [],
   "source": [
    "ex = ExampleVectorInterface()\n",
    "next(ex)"
   ]
  },
  {
   "cell_type": "code",
   "execution_count": null,
   "id": "wound-recommendation",
   "metadata": {},
   "outputs": [],
   "source": [
    "for _ in range(10):\n",
    "    print(next(ex) * _)"
   ]
  },
  {
   "cell_type": "markdown",
   "id": "tropical-madagascar",
   "metadata": {},
   "source": [
    "Or functions:"
   ]
  },
  {
   "cell_type": "code",
   "execution_count": null,
   "id": "identified-facing",
   "metadata": {},
   "outputs": [],
   "source": [
    "from itertools import repeat\n",
    "vector_interface = repeat(np.array([1, 1, 1, 1, 2, 4, 8, 16], dtype=np.float64))"
   ]
  },
  {
   "cell_type": "markdown",
   "id": "liked-miniature",
   "metadata": {},
   "source": [
    "Interfaces in action:"
   ]
  },
  {
   "cell_type": "code",
   "execution_count": null,
   "id": "revolutionary-pregnancy",
   "metadata": {},
   "outputs": [],
   "source": [
    "dp = bwp.create_datapackage()\n",
    "dp.add_dynamic_vector(\n",
    "    matrix=\"technosphere_matrix\",\n",
    "    # interface=vector_interface,\n",
    "    interface=ExampleVectorInterface(),  # <- This is the only part that changed\n",
    "    indices_array=np.array(\n",
    "        [(100, 100), (101, 101), (102, 102), (103, 103),  # Production\n",
    "         (100, 101), (101, 102), (101, 103), (102, 103)], # Inputs\n",
    "        dtype=bwp.INDICES_DTYPE  # Means first element is row, second is column\n",
    "    ),\n",
    "    flip_array=np.array([\n",
    "        False, False, False, False, # Production\n",
    "        True, True, True, True      # Inputs\n",
    "    ]),\n",
    ")\n",
    "dp.add_persistent_vector(\n",
    "    matrix=\"biosphere_matrix\",\n",
    "    indices_array=np.array(\n",
    "        [(200, 100), (200, 101), (200, 102), (200, 103), (201, 100), (201, 102)], dtype=bwp.INDICES_DTYPE\n",
    "    ),\n",
    "    data_array=np.arange(6),\n",
    ")\n",
    "dp.add_persistent_vector(\n",
    "    matrix=\"characterization_matrix\",\n",
    "    indices_array=np.array(\n",
    "        [(200, 200), (201, 201)], dtype=bwp.INDICES_DTYPE\n",
    "    ),\n",
    "    data_array=np.array([1, 10]),\n",
    ")"
   ]
  },
  {
   "cell_type": "code",
   "execution_count": null,
   "id": "banned-russell",
   "metadata": {},
   "outputs": [],
   "source": [
    "lca = LCA(demand={103: 1}, data_objs=[dp])\n",
    "lca.lci()\n",
    "lca.lcia()\n",
    "lca.score"
   ]
  },
  {
   "cell_type": "markdown",
   "id": "perfect-dayton",
   "metadata": {},
   "source": [
    "We can even treat the interface as a stochastic data source that overwrite existing values:"
   ]
  },
  {
   "cell_type": "code",
   "execution_count": 2,
   "id": "immediate-snake",
   "metadata": {},
   "outputs": [],
   "source": [
    "dp = bwp.create_datapackage()\n",
    "dp.add_persistent_vector(\n",
    "    matrix=\"technosphere_matrix\",\n",
    "    indices_array=np.array(\n",
    "        [(100, 100), (101, 101), (102, 102), (103, 103),  # Production\n",
    "         (100, 101), (101, 102), (101, 103), (102, 103)], # Inputs\n",
    "        dtype=bwp.INDICES_DTYPE  # Means first element is row, second is column\n",
    "    ),\n",
    "    flip_array=np.array([\n",
    "        False, False, False, False, # Production\n",
    "        True, True, True, True      # Inputs\n",
    "    ]),\n",
    "    data_array=np.array([\n",
    "        1, 1, 1, 1,  # Production\n",
    "        2, 4, 8, 16  # Inputs\n",
    "    ]),\n",
    ")\n",
    "dp.add_persistent_vector(\n",
    "    matrix=\"biosphere_matrix\",\n",
    "    indices_array=np.array(\n",
    "        [(200, 100), (200, 101), (200, 102), (200, 103), (201, 100), (201, 102)], dtype=bwp.INDICES_DTYPE\n",
    "    ),\n",
    "    data_array=np.arange(6),\n",
    ")\n",
    "dp.add_persistent_vector(\n",
    "    matrix=\"characterization_matrix\",\n",
    "    indices_array=np.array(\n",
    "        [(200, 200), (201, 201)], dtype=bwp.INDICES_DTYPE\n",
    "    ),\n",
    "    data_array=np.array([1, 10]),\n",
    ")"
   ]
  },
  {
   "cell_type": "code",
   "execution_count": 3,
   "id": "drawn-holocaust",
   "metadata": {},
   "outputs": [],
   "source": [
    "class RandomInterface:\n",
    "    def __next__(self):\n",
    "        return np.hstack([\n",
    "            np.random.random() * np.array([8, 16])\n",
    "        ])"
   ]
  },
  {
   "cell_type": "code",
   "execution_count": 10,
   "id": "completed-complex",
   "metadata": {},
   "outputs": [],
   "source": [
    "overwriter = bwp.create_datapackage()"
   ]
  },
  {
   "cell_type": "code",
   "execution_count": 11,
   "id": "lesbian-arabic",
   "metadata": {},
   "outputs": [],
   "source": [
    "overwriter.add_dynamic_vector(\n",
    "    matrix=\"technosphere_matrix\",\n",
    "    interface=RandomInterface(),\n",
    "    indices_array=np.array(\n",
    "        [(101, 103), (102, 103)],  # Indices of the values that will be overwritten\n",
    "        dtype=bwp.INDICES_DTYPE   \n",
    "    ),\n",
    "    flip_array=np.array([           \n",
    "        True, True      # Inputs\n",
    "    ]),\n",
    ")"
   ]
  },
  {
   "cell_type": "markdown",
   "id": "congressional-thong",
   "metadata": {},
   "source": [
    "Eventually, the `LCA` class itself will support `next()`; until then, we can do:"
   ]
  },
  {
   "cell_type": "code",
   "execution_count": 12,
   "id": "posted-stanford",
   "metadata": {},
   "outputs": [
    {
     "name": "stdout",
     "output_type": "stream",
     "text": [
      "2366.427285347185\n",
      "6461.401498656212\n",
      "419.09603593496814\n",
      "3698.160444062884\n",
      "6055.095880088351\n",
      "278.35517448102536\n",
      "3505.8067247231616\n",
      "3408.8570096411413\n",
      "467.4890721944373\n",
      "1459.7611652744715\n"
     ]
    }
   ],
   "source": [
    "lca = LCA(demand={103: 1}, data_objs=[dp, overwriter])\n",
    "lca.lci()\n",
    "lca.lcia()\n",
    "for _ in range(10):\n",
    "    next(lca.technosphere_mm)\n",
    "    lca.lci()\n",
    "    lca.lcia()\n",
    "    print(lca.score)"
   ]
  }
 ],
 "metadata": {
  "kernelspec": {
   "display_name": "Python 3",
   "language": "python",
   "name": "python3"
  },
  "language_info": {
   "codemirror_mode": {
    "name": "ipython",
    "version": 3
   },
   "file_extension": ".py",
   "mimetype": "text/x-python",
   "name": "python",
   "nbconvert_exporter": "python",
   "pygments_lexer": "ipython3",
   "version": "3.9.1"
  }
 },
 "nbformat": 4,
 "nbformat_minor": 5
}
