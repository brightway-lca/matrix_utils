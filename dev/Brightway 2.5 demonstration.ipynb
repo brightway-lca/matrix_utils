{
 "cells": [
  {
   "cell_type": "markdown",
   "id": "e5ec8e57",
   "metadata": {},
   "source": [
    "# Brightway 2.5 demonstration\n",
    "\n",
    "## Installation\n",
    "\n",
    "* Install [conda](https://docs.conda.io/en/latest/) or miniconda. We use conda as it has a [very fast sparse library](https://www.pardiso-project.org/).\n",
    "* Create a new conda environment using conda or (better) [mamba](https://mamba-framework.readthedocs.io/en/latest/):\n",
    "\n",
    "```\n",
    "    mamba create -y -n bw25test -c conda-forge -c cmutel -c bsteubing -c haasad -c pascallesage pypardiso python=3.8 fs scipy numpy pandas stats_arrays appdirs pip\n",
    "```\n",
    "\n",
    "* Activate this environment following the instructions for your OS\n",
    "\n",
    "* In your `bw25test` environment, install the new development libraries directly from github:\n",
    "\n",
    "```\n",
    "    pip install https://github.com/brightway-lca/bw_processing/archive/master.zip\n",
    "    pip install https://github.com/brightway-lca/matrix_utils/archive/main.zip\n",
    "    pip install https://github.com/brightway-lca/brightway2-calc/archive/master.zip\n",
    "```"
   ]
  },
  {
   "cell_type": "markdown",
   "id": "fac35543",
   "metadata": {},
   "source": [
    "## Notebook setup\n",
    "\n",
    "Import new libraries ([bw_processing](https://github.com/brightway-lca/bw_processing) and [matrix_utils](https://github.com/brightway-lca/matrix_utils))"
   ]
  },
  {
   "cell_type": "code",
   "execution_count": 1,
   "id": "0d6a3d10",
   "metadata": {},
   "outputs": [],
   "source": [
    "import numpy as np\n",
    "import bw_processing as bwp\n",
    "from bw2calc.lca import LCA"
   ]
  },
  {
   "cell_type": "markdown",
   "id": "723cc4a9",
   "metadata": {},
   "source": [
    "# Simple example with in-memory data packages"
   ]
  },
  {
   "cell_type": "markdown",
   "id": "b1f49e6f",
   "metadata": {},
   "source": [
    "Create a \"data package\" - a set of data resources used to construct matrices, with metadata on provenance, licensing, etc. Based on the Open Knowledge Foundation's [Data Package standard](https://specs.frictionlessdata.io/data-package/).\n",
    "\n",
    "Because we use [PyFilesystem2](https://docs.pyfilesystem.org/en/latest/), these files can be stored on many logical or virtual filesystems. In this case, we store data in memory."
   ]
  },
  {
   "cell_type": "code",
   "execution_count": 5,
   "id": "2a720e0e",
   "metadata": {},
   "outputs": [],
   "source": [
    "dp = bwp.create_datapackage()"
   ]
  },
  {
   "cell_type": "markdown",
   "id": "b88036ef",
   "metadata": {},
   "source": [
    "In memory is the default, we could also make it explicit:\n",
    "\n",
    "```\n",
    "from fs.memoryfs import MemoryFS\n",
    "dp = bwp.create_datapackage(MemoryFS())\n",
    "```\n",
    "\n",
    "We can also store data on network drives, via FTP, on cloud platforms, etc. etc. There is a lot of potential here!"
   ]
  },
  {
   "cell_type": "markdown",
   "id": "3e21c5db",
   "metadata": {},
   "source": [
    "Add data. Each matrix (in this case) is constructed by one simple resource. We have the ability, however, to support more complex resource types :)\n",
    "\n",
    "BTW, in our number scheme, 1xx are products, 4xx are activities, and 2xx are elementary (biosphere) flows."
   ]
  },
  {
   "cell_type": "code",
   "execution_count": 6,
   "id": "fb828da7",
   "metadata": {},
   "outputs": [],
   "source": [
    "dp.add_persistent_vector(\n",
    "    matrix=\"technosphere_matrix\",\n",
    "    indices_array=np.array(\n",
    "        [(100, 400), (101, 401), (102, 402), (103, 403),  # Production\n",
    "         (100, 401), (101, 402), (101, 403), (102, 403)], # Inputs\n",
    "        dtype=bwp.INDICES_DTYPE  # Means first element is row, second is column\n",
    "    ),\n",
    "    flip_array=np.array([\n",
    "        False, False, False, False, # Production\n",
    "        True, True, True, True      # Inputs\n",
    "    ]),\n",
    "    data_array=np.array([\n",
    "        1, 1, 1, 1,  # Production\n",
    "        2, 4, 8, 16  # Inputs\n",
    "    ]),\n",
    ")\n",
    "dp.add_persistent_vector(\n",
    "    matrix=\"biosphere_matrix\",\n",
    "    indices_array=np.array(\n",
    "        [(200, 400), (200, 401), (200, 402), (200, 403), (201, 400), (201, 402)], dtype=bwp.INDICES_DTYPE\n",
    "    ),\n",
    "    data_array=np.arange(6),\n",
    ")\n",
    "dp.add_persistent_vector(\n",
    "    matrix=\"characterization_matrix\",\n",
    "    indices_array=np.array(\n",
    "        [(200, 200), (201, 201)], dtype=bwp.INDICES_DTYPE\n",
    "    ),\n",
    "    data_array=np.array([1, 10]),\n",
    ")"
   ]
  },
  {
   "cell_type": "markdown",
   "id": "f8dbc9f6",
   "metadata": {},
   "source": [
    "Building an LCA is then as simple as the functional unit and the data packages"
   ]
  },
  {
   "cell_type": "code",
   "execution_count": 7,
   "id": "47d7c9a9",
   "metadata": {},
   "outputs": [
    {
     "data": {
      "text/plain": [
       "6667.0"
      ]
     },
     "execution_count": 7,
     "metadata": {},
     "output_type": "execute_result"
    }
   ],
   "source": [
    "lca = LCA(demand={103: 1}, data_objs=[dp])\n",
    "lca.lci()\n",
    "lca.lcia()\n",
    "lca.score"
   ]
  },
  {
   "cell_type": "markdown",
   "id": "b1af0423",
   "metadata": {},
   "source": [
    "# Using interfaces to generate data on demand"
   ]
  },
  {
   "cell_type": "markdown",
   "id": "42c46ee6",
   "metadata": {},
   "source": [
    "Let's increase the complexity. Sometimes we need to generate data on the fly. This we can do through \"interfaces\", Python code that generates data or wraps other data sources. These interfaces follow a very simple [bw_processing standard API](https://github.com/brightway-lca/bw_processing#persistent-versus-dynamic).\n",
    "\n",
    "Intefaces can be classes:"
   ]
  },
  {
   "cell_type": "code",
   "execution_count": 5,
   "id": "9fc37f2c",
   "metadata": {},
   "outputs": [],
   "source": [
    "class ExampleVectorInterface:\n",
    "    def __next__(self):\n",
    "        return np.array([1, 1, 1, 1, 2, 4, 8, 16], dtype=np.float64)"
   ]
  },
  {
   "cell_type": "markdown",
   "id": "0ec068f7",
   "metadata": {},
   "source": [
    "`__next__` just means we can call `next()` on the object:"
   ]
  },
  {
   "cell_type": "code",
   "execution_count": 6,
   "id": "f55595e8",
   "metadata": {},
   "outputs": [
    {
     "data": {
      "text/plain": [
       "array([ 1.,  1.,  1.,  1.,  2.,  4.,  8., 16.])"
      ]
     },
     "execution_count": 6,
     "metadata": {},
     "output_type": "execute_result"
    }
   ],
   "source": [
    "next(ExampleVectorInterface())"
   ]
  },
  {
   "cell_type": "markdown",
   "id": "daeadcef",
   "metadata": {},
   "source": [
    "Of course, generator functions also support `next()`, and can be used:"
   ]
  },
  {
   "cell_type": "code",
   "execution_count": 7,
   "id": "8f42bc03",
   "metadata": {},
   "outputs": [],
   "source": [
    "from itertools import repeat\n",
    "vector_interface = repeat(np.array([1, 1, 1, 1, 2, 4, 8, 16], dtype=np.float64))"
   ]
  },
  {
   "cell_type": "markdown",
   "id": "cac110cd",
   "metadata": {},
   "source": [
    "Interfaces in action:"
   ]
  },
  {
   "cell_type": "code",
   "execution_count": 8,
   "id": "04feb2e2",
   "metadata": {},
   "outputs": [],
   "source": [
    "dp_vector = bwp.create_datapackage()\n",
    "dp_vector.add_dynamic_vector(\n",
    "    matrix=\"technosphere_matrix\",\n",
    "    interface=ExampleVectorInterface(),  # <- This is the part that changed\n",
    "    indices_array=np.array(\n",
    "        [(100, 100), (101, 101), (102, 102), (103, 103),  # Production\n",
    "         (100, 101), (101, 102), (101, 103), (102, 103)], # Inputs\n",
    "        dtype=bwp.INDICES_DTYPE  # Means first element is row, second is column\n",
    "    ),\n",
    "    flip_array=np.array([\n",
    "        False, False, False, False, # Production\n",
    "        True, True, True, True      # Inputs\n",
    "    ]),\n",
    ")\n",
    "dp_vector.add_persistent_vector(\n",
    "    matrix=\"biosphere_matrix\",\n",
    "    indices_array=np.array(\n",
    "        [(200, 100), (200, 101), (200, 102), (200, 103), (201, 100), (201, 102)], dtype=bwp.INDICES_DTYPE\n",
    "    ),\n",
    "    data_array=np.arange(6),\n",
    ")\n",
    "dp_vector.add_persistent_vector(\n",
    "    matrix=\"characterization_matrix\",\n",
    "    indices_array=np.array(\n",
    "        [(200, 200), (201, 201)], dtype=bwp.INDICES_DTYPE\n",
    "    ),\n",
    "    data_array=np.array([1, 10]),\n",
    ")"
   ]
  },
  {
   "cell_type": "code",
   "execution_count": 9,
   "id": "3d2c5050",
   "metadata": {},
   "outputs": [
    {
     "data": {
      "text/plain": [
       "6667.0"
      ]
     },
     "execution_count": 9,
     "metadata": {},
     "output_type": "execute_result"
    }
   ],
   "source": [
    "lca = LCA(demand={103: 1}, data_objs=[dp_vector])\n",
    "lca.lci()\n",
    "lca.lcia()\n",
    "lca.score"
   ]
  },
  {
   "cell_type": "markdown",
   "id": "bd690007",
   "metadata": {},
   "source": [
    "For future reference, here is the produced technosphere matrix:"
   ]
  },
  {
   "cell_type": "code",
   "execution_count": 10,
   "id": "dd8bd56d",
   "metadata": {},
   "outputs": [
    {
     "data": {
      "text/plain": [
       "matrix([[  1.,  -2.,   0.,   0.],\n",
       "        [  0.,   1.,  -4.,  -8.],\n",
       "        [  0.,   0.,   1., -16.],\n",
       "        [  0.,   0.,   0.,   1.]])"
      ]
     },
     "execution_count": 10,
     "metadata": {},
     "output_type": "execute_result"
    }
   ],
   "source": [
    "lca.technosphere_matrix.todense()"
   ]
  },
  {
   "cell_type": "markdown",
   "id": "1942cd5d",
   "metadata": {},
   "source": [
    "# Interfaces with stochastic data"
   ]
  },
  {
   "cell_type": "markdown",
   "id": "4e8ff8dd",
   "metadata": {},
   "source": [
    "We can even treat the interface as a stochastic data source that overwrite existing values. We create an interface that will return some random data:"
   ]
  },
  {
   "cell_type": "code",
   "execution_count": 11,
   "id": "359b76d3",
   "metadata": {},
   "outputs": [],
   "source": [
    "class RandomInterface:\n",
    "    def __next__(self):\n",
    "        return np.hstack([\n",
    "            np.random.random() * np.array([8, 16])\n",
    "        ])"
   ]
  },
  {
   "cell_type": "markdown",
   "id": "fc99e0db",
   "metadata": {},
   "source": [
    "And now we create an interface that will overwrite some of the static values.\n",
    "\n",
    "Data package behaviour on conflicting data points is controlled by the `sum_intra_duplicates` and `sum_inter_duplicates` [policies](https://github.com/brightway-lca/bw_processing#policies)."
   ]
  },
  {
   "cell_type": "code",
   "execution_count": 12,
   "id": "f4e7557e",
   "metadata": {},
   "outputs": [],
   "source": [
    "overwriter = bwp.create_datapackage()"
   ]
  },
  {
   "cell_type": "code",
   "execution_count": 13,
   "id": "89ed4363",
   "metadata": {},
   "outputs": [],
   "source": [
    "overwriter.add_dynamic_vector(\n",
    "    matrix=\"technosphere_matrix\",\n",
    "    interface=RandomInterface(),\n",
    "    indices_array=np.array(\n",
    "        [(101, 403), (102, 403)],  # Indices of the values that will be overwritten\n",
    "        dtype=bwp.INDICES_DTYPE   \n",
    "    ),\n",
    "    flip_array=np.array([           \n",
    "        True, True      # Inputs\n",
    "    ]),\n",
    ")"
   ]
  },
  {
   "cell_type": "markdown",
   "id": "ab64fdc6",
   "metadata": {},
   "source": [
    "We can now iterate over the LCA class. It will draw new data from the stochastic resources each time."
   ]
  },
  {
   "cell_type": "code",
   "execution_count": 35,
   "id": "848d05fb",
   "metadata": {},
   "outputs": [
    {
     "name": "stdout",
     "output_type": "stream",
     "text": [
      "7036.927800669941\n",
      "13248.260244187026\n",
      "10725.580647917117\n",
      "8103.20231018959\n",
      "9704.21442643887\n",
      "8490.81158157004\n",
      "12730.495418763809\n",
      "11418.60980844241\n",
      "11141.306586174614\n",
      "8690.4795200774\n"
     ]
    }
   ],
   "source": [
    "lca = LCA(demand={103: 1}, data_objs=[dp, overwriter])\n",
    "lca.lci()\n",
    "lca.lcia()\n",
    "\n",
    "for _ in range(10):\n",
    "    next(lca)\n",
    "    print(lca.score)"
   ]
  },
  {
   "cell_type": "markdown",
   "id": "baca9324",
   "metadata": {},
   "source": [
    "# Different system configurations\n",
    "\n",
    "As a reminder, our base matrix looks like:\n",
    "\n",
    "```\n",
    "matrix([[  1.,  -2.,   0.,   0.],\n",
    "        [  0.,   1.,  -4.,  -8.],\n",
    "        [  0.,   0.,   1., -16.],\n",
    "        [  0.,   0.,   0.,   1.]])\n",
    "```\n",
    "\n",
    "The rows (products) are `100, 101, 102, 103`, and the columns (activities) are `400, 401, 402, 403`.\n",
    "\n",
    "Sometimes we want to imagine different system configurations or allocation strategies. Let's imagine that activity 103 could be split two different ways, creating virtual activities `404` and `405`. To keep the matrix square, they also need virtual products `104` and `105`. We can then define an *array* of the different allocation results:"
   ]
  },
  {
   "cell_type": "code",
   "execution_count": 36,
   "id": "c25060b7",
   "metadata": {},
   "outputs": [],
   "source": [
    "systems_array = np.array([\n",
    "    [-10, -6],  # Amount of 101 needed by 404\n",
    "    [-6, -10],  # Amount of 101 needed by 405\n",
    "    [0, -20],   # Amount of 102 needed by 404\n",
    "    [-20, 0],   # Amount of 102 needed by 405\n",
    "    [1, 1],     # Production of 404\n",
    "    [1, 1],     # Production of 405\n",
    "])\n",
    "\n",
    "systems_indices = np.array(\n",
    "    [(101, 404), (101, 405), (102, 404), (102, 405), (104, 404), (105, 405)],\n",
    "    dtype=bwp.INDICES_DTYPE   \n",
    ")"
   ]
  },
  {
   "cell_type": "markdown",
   "id": "d7afb956",
   "metadata": {},
   "source": [
    "One thing that is a change versus previous behaviour in e.g. [presamples](https://github.com/PascalLesage/presamples/) is that we can directly specify new elements in the matrix."
   ]
  },
  {
   "cell_type": "code",
   "execution_count": 37,
   "id": "dad3f06c",
   "metadata": {},
   "outputs": [],
   "source": [
    "allocations = bwp.create_datapackage(sequential=True)  # Force different possibilities to evaluated in order"
   ]
  },
  {
   "cell_type": "code",
   "execution_count": 38,
   "id": "c9d66a10",
   "metadata": {},
   "outputs": [],
   "source": [
    "allocations.add_persistent_array(\n",
    "    matrix=\"technosphere_matrix\",\n",
    "    data_array=systems_array,\n",
    "    indices_array=systems_indices,\n",
    ")"
   ]
  },
  {
   "cell_type": "code",
   "execution_count": 39,
   "id": "eaa01fca",
   "metadata": {},
   "outputs": [
    {
     "name": "stdout",
     "output_type": "stream",
     "text": [
      "[[  1.  -2.   0.   0.   0.   0.]\n",
      " [  0.   1.  -4.  -8. -10.  -6.]\n",
      " [  0.   0.   1. -16.   0. -20.]\n",
      " [  0.   0.   0.   1.   0.   0.]\n",
      " [  0.   0.   0.   0.   1.   0.]\n",
      " [  0.   0.   0.   0.   0.   1.]]\n",
      "810.0\n"
     ]
    }
   ],
   "source": [
    "lca = LCA(demand={104: 1}, data_objs=[dp, allocations], use_arrays=True)\n",
    "lca.lci()\n",
    "lca.lcia()\n",
    "print(lca.technosphere_matrix.todense())\n",
    "print(lca.score)"
   ]
  },
  {
   "cell_type": "code",
   "execution_count": 43,
   "id": "5e2ae8c3",
   "metadata": {},
   "outputs": [
    {
     "name": "stdout",
     "output_type": "stream",
     "text": [
      "[[  1.  -2.   0.   0.   0.   0.]\n",
      " [  0.   1.  -4.  -8.  -6. -10.]\n",
      " [  0.   0.   1. -16. -20.   0.]\n",
      " [  0.   0.   0.   1.   0.   0.]\n",
      " [  0.   0.   0.   0.   1.   0.]\n",
      " [  0.   0.   0.   0.   0.   1.]]\n",
      "8006.0\n"
     ]
    }
   ],
   "source": [
    "next(lca)\n",
    "print(lca.technosphere_matrix.todense())\n",
    "print(lca.score)"
   ]
  },
  {
   "cell_type": "markdown",
   "id": "648d9cd5",
   "metadata": {},
   "source": [
    "Sequential indices will wrap around to zero, so they be iterated over again:"
   ]
  },
  {
   "cell_type": "code",
   "execution_count": 41,
   "id": "3858b01b",
   "metadata": {},
   "outputs": [
    {
     "name": "stdout",
     "output_type": "stream",
     "text": [
      "810.0\n",
      "8006.0\n",
      "810.0\n",
      "8006.0\n"
     ]
    }
   ],
   "source": [
    "for _ in range(4):\n",
    "    next(lca)\n",
    "    print(lca.score)"
   ]
  }
 ],
 "metadata": {
  "kernelspec": {
   "display_name": "Python 3",
   "language": "python",
   "name": "python3"
  },
  "language_info": {
   "codemirror_mode": {
    "name": "ipython",
    "version": 3
   },
   "file_extension": ".py",
   "mimetype": "text/x-python",
   "name": "python",
   "nbconvert_exporter": "python",
   "pygments_lexer": "ipython3",
   "version": "3.8.10"
  }
 },
 "nbformat": 4,
 "nbformat_minor": 5
}
