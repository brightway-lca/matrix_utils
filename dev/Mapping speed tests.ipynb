{
 "cells": [
  {
   "cell_type": "code",
   "execution_count": 1,
   "id": "accepted-saint",
   "metadata": {},
   "outputs": [],
   "source": [
    "import itertools\n",
    "import numpy as np\n",
    "from scipy import sparse"
   ]
  },
  {
   "cell_type": "code",
   "execution_count": 2,
   "id": "hearing-average",
   "metadata": {},
   "outputs": [],
   "source": [
    "def index_with_arrays(array_from, array_to, mapping):\n",
    "    \"\"\"Map ``array_from`` keys to ``array_to`` values using the dictionary ``mapping``.\n",
    "\n",
    "    Turns the keys and values of mapping into index arrays.\n",
    "\n",
    "    This is needed to take the ``flow``, ``input``, and ``output`` columns, which can be arbitrarily large integers, and transform them to matrix indices, which start from zero.\n",
    "\n",
    "    Here is an example:\n",
    "\n",
    "    .. code-block:: python\n",
    "\n",
    "        import numpy as np\n",
    "        a_f = np.array((1, 2, 3, 4))\n",
    "        a_t = np.zeros(4)\n",
    "        mapping = {1: 5, 2: 6, 3: 7, 4: 8}\n",
    "        index_with_arrays(a_f, a_t, mapping)\n",
    "        # => a_t is now [5, 6, 7, 8]\n",
    "\n",
    "    Args:\n",
    "        * *array_from* (array): 1-dimensional integer numpy array.\n",
    "        * *array_to* (array): 1-dimensional integer numpy array.\n",
    "        * *mapping* (dict): Dictionary that links ``mapping`` indices to ``row`` or ``col`` indices, e.g. ``{34: 3}``.\n",
    "\n",
    "    Operates in place. Doesn't return anything.\"\"\"\n",
    "    keys = np.array(list(mapping.keys()))\n",
    "    values = np.array(list(mapping.values()))\n",
    "\n",
    "    if keys.min() < 0:\n",
    "        raise ValueError(\"Keys must be positive integers\")\n",
    "\n",
    "    index_array = np.zeros(keys.max() + 1) - 1\n",
    "    index_array[keys] = values\n",
    "\n",
    "    mask = array_from <= keys.max()\n",
    "    array_to[:] = -1\n",
    "    array_to[mask] = index_array[array_from[mask]]\n",
    "    # array_to[array_to == -1] = np.nan"
   ]
  },
  {
   "cell_type": "code",
   "execution_count": 3,
   "id": "wired-lesbian",
   "metadata": {},
   "outputs": [],
   "source": [
    "def index_with_indexarray(array_from):\n",
    "    # Twice as fast as index_with_searchsorted\n",
    "    unique = np.unique(array_from)\n",
    "    values = np.arange(unique.max() + 1)\n",
    "\n",
    "    index_array = np.zeros_like(unique) - 1\n",
    "    index_array[unique] = values\n",
    "\n",
    "    return index_array[array_from]"
   ]
  },
  {
   "cell_type": "code",
   "execution_count": 4,
   "id": "appointed-sellers",
   "metadata": {},
   "outputs": [],
   "source": [
    "def index_with_searchsorted(array_from, array_to=None):\n",
    "    \"\"\"Build a dictionary from the sorted, unique elements of an array, and map this dictionary from ``array_from`` to ``array_to``.\n",
    "\n",
    "    Adapted from http://stackoverflow.com/questions/3403973/fast-replacement-of-values-in-a-numpy-array.\n",
    "\n",
    "    Here is an example:\n",
    "\n",
    "    .. code-block:: python\n",
    "\n",
    "        import numpy as np\n",
    "        array = np.array((4, 8, 6, 2, 4))\n",
    "        output = np.zeros(5)\n",
    "        index_with_searchsorted(array, output)\n",
    "        # => returns {2: 0, 4: 1, 6: 2, 8: 3}\n",
    "        # and `output` is [1, 3, 2, 0, 1]\n",
    "\n",
    "    ``array_from`` and ``array_to`` are arrays of integers.\n",
    "\n",
    "    Returns a dictionary that maps the sorted, unique elements of ``array_from`` to integers starting with zero.\"\"\"\n",
    "    unique = np.unique(array_from)\n",
    "    idx = np.searchsorted(unique, array_from)\n",
    "    if array_to is not None:\n",
    "        array_to[:] = idx\n",
    "    else:\n",
    "        array_to = idx\n",
    "    return array_to, dict(zip((int(x) for x in unique), itertools.count()))"
   ]
  },
  {
   "cell_type": "code",
   "execution_count": 5,
   "id": "little-marshall",
   "metadata": {},
   "outputs": [],
   "source": [
    "def input_array(num_elements=250_000, num_distinct=20_000):\n",
    "    return np.random.randint(low=0, high=num_distinct, size=num_elements)\n",
    "\n",
    "\n",
    "arr = input_array()"
   ]
  },
  {
   "cell_type": "code",
   "execution_count": 6,
   "id": "lyric-middle",
   "metadata": {},
   "outputs": [
    {
     "name": "stdout",
     "output_type": "stream",
     "text": [
      "51.2 ms ± 2.68 ms per loop (mean ± std. dev. of 7 runs, 10 loops each)\n"
     ]
    }
   ],
   "source": [
    "%timeit index_with_searchsorted(arr)"
   ]
  },
  {
   "cell_type": "code",
   "execution_count": 7,
   "id": "electronic-stress",
   "metadata": {},
   "outputs": [
    {
     "name": "stdout",
     "output_type": "stream",
     "text": [
      "60 ms ± 6.5 ms per loop (mean ± std. dev. of 7 runs, 10 loops each)\n"
     ]
    }
   ],
   "source": [
    "%timeit index_with_searchsorted(arr, np.zeros_like(arr))"
   ]
  },
  {
   "cell_type": "code",
   "execution_count": 8,
   "id": "parliamentary-period",
   "metadata": {},
   "outputs": [],
   "source": [
    "_, mapping = index_with_searchsorted(arr)\n",
    "arr2 = input_array()"
   ]
  },
  {
   "cell_type": "code",
   "execution_count": 9,
   "id": "laughing-selection",
   "metadata": {},
   "outputs": [
    {
     "name": "stdout",
     "output_type": "stream",
     "text": [
      "5.29 ms ± 498 µs per loop (mean ± std. dev. of 7 runs, 100 loops each)\n"
     ]
    }
   ],
   "source": [
    "%timeit index_with_arrays(arr2, np.zeros_like(arr2), mapping)"
   ]
  },
  {
   "cell_type": "code",
   "execution_count": 10,
   "id": "systematic-shopping",
   "metadata": {},
   "outputs": [],
   "source": [
    "MAX = 10000\n",
    "ELEMENTS = 250000"
   ]
  },
  {
   "cell_type": "code",
   "execution_count": 12,
   "id": "relative-vertex",
   "metadata": {},
   "outputs": [],
   "source": [
    "indices_row_int = np.random.randint(low=0, high=MAX, size=ELEMENTS)\n",
    "indices_row_float = indices_row_int.astype(np.float32)"
   ]
  },
  {
   "cell_type": "code",
   "execution_count": 13,
   "id": "falling-spokesman",
   "metadata": {},
   "outputs": [],
   "source": [
    "indices_col_int = np.random.randint(low=0, high=MAX, size=ELEMENTS)\n",
    "indices_col_float = indices_col_int.astype(np.float32)"
   ]
  },
  {
   "cell_type": "code",
   "execution_count": 14,
   "id": "progressive-hollow",
   "metadata": {},
   "outputs": [],
   "source": [
    "data = np.random.random(size=(250_000,))"
   ]
  },
  {
   "cell_type": "code",
   "execution_count": 15,
   "id": "spatial-dakota",
   "metadata": {},
   "outputs": [
    {
     "name": "stdout",
     "output_type": "stream",
     "text": [
      "945 µs ± 110 µs per loop (mean ± std. dev. of 7 runs, 1000 loops each)\n"
     ]
    }
   ],
   "source": [
    "%timeit sparse.coo_matrix((data, (indices_row_int, indices_col_int)), (MAX, MAX))"
   ]
  },
  {
   "cell_type": "code",
   "execution_count": 16,
   "id": "unauthorized-uncertainty",
   "metadata": {},
   "outputs": [
    {
     "name": "stdout",
     "output_type": "stream",
     "text": [
      "720 µs ± 73.7 µs per loop (mean ± std. dev. of 7 runs, 1000 loops each)\n"
     ]
    }
   ],
   "source": [
    "%timeit sparse.coo_matrix((data, (indices_row_float, indices_col_float)), (MAX, MAX))"
   ]
  },
  {
   "cell_type": "code",
   "execution_count": 17,
   "id": "interpreted-capability",
   "metadata": {},
   "outputs": [
    {
     "name": "stdout",
     "output_type": "stream",
     "text": [
      "1.09 ms ± 77.1 µs per loop (mean ± std. dev. of 7 runs, 1000 loops each)\n"
     ]
    }
   ],
   "source": [
    "%timeit sparse.coo_matrix((data, (indices_row_int.astype(np.float32), indices_col_int.astype(np.float32))), (MAX, MAX))"
   ]
  }
 ],
 "metadata": {
  "kernelspec": {
   "display_name": "Python 3",
   "language": "python",
   "name": "python3"
  },
  "language_info": {
   "codemirror_mode": {
    "name": "ipython",
    "version": 3
   },
   "file_extension": ".py",
   "mimetype": "text/x-python",
   "name": "python",
   "nbconvert_exporter": "python",
   "pygments_lexer": "ipython3",
   "version": "3.7.9"
  }
 },
 "nbformat": 4,
 "nbformat_minor": 5
}
