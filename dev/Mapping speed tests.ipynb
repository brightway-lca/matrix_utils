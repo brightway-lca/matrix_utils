{
 "cells": [
  {
   "cell_type": "code",
   "execution_count": 1,
   "id": "accepted-saint",
   "metadata": {},
   "outputs": [],
   "source": [
    "import itertools\n",
    "import numpy as np\n",
    "from scipy import sparse\n",
    "import matrix_utils as mu"
   ]
  },
  {
   "cell_type": "code",
   "execution_count": 2,
   "id": "hearing-average",
   "metadata": {},
   "outputs": [],
   "source": [
    "def index_with_arrays(array_from, array_to, mapping):\n",
    "    \"\"\"Map ``array_from`` keys to ``array_to`` values using the dictionary ``mapping``.\n",
    "\n",
    "    Turns the keys and values of mapping into index arrays.\n",
    "\n",
    "    This is needed to take the ``flow``, ``input``, and ``output`` columns, which can be arbitrarily large integers, and transform them to matrix indices, which start from zero.\n",
    "\n",
    "    Here is an example:\n",
    "\n",
    "    .. code-block:: python\n",
    "\n",
    "        import numpy as np\n",
    "        a_f = np.array((1, 2, 3, 4))\n",
    "        a_t = np.zeros(4)\n",
    "        mapping = {1: 5, 2: 6, 3: 7, 4: 8}\n",
    "        index_with_arrays(a_f, a_t, mapping)\n",
    "        # => a_t is now [5, 6, 7, 8]\n",
    "\n",
    "    Args:\n",
    "        * *array_from* (array): 1-dimensional integer numpy array.\n",
    "        * *array_to* (array): 1-dimensional integer numpy array.\n",
    "        * *mapping* (dict): Dictionary that links ``mapping`` indices to ``row`` or ``col`` indices, e.g. ``{34: 3}``.\n",
    "\n",
    "    Operates in place. Doesn't return anything.\"\"\"\n",
    "    keys = np.array(list(mapping.keys()))\n",
    "    values = np.array(list(mapping.values()))\n",
    "\n",
    "    if keys.min() < 0:\n",
    "        raise ValueError(\"Keys must be positive integers\")\n",
    "\n",
    "    index_array = np.zeros(keys.max() + 1) - 1\n",
    "    index_array[keys] = values\n",
    "\n",
    "    mask = array_from <= keys.max()\n",
    "    array_to[:] = -1\n",
    "    array_to[mask] = index_array[array_from[mask]]\n",
    "    # array_to[array_to == -1] = np.nan"
   ]
  },
  {
   "cell_type": "code",
   "execution_count": 14,
   "id": "wired-lesbian",
   "metadata": {},
   "outputs": [],
   "source": [
    "def index_with_indexarray(array_from):\n",
    "    array = np.unique(array_from)\n",
    "    \n",
    "    if array_from.shape == (0,):\n",
    "        if empty_ok:\n",
    "            max_value = 0\n",
    "        else:\n",
    "            raise EmptyArray(\"Empty array can't be used to map values\")\n",
    "    else:\n",
    "        max_value = int(array.max())\n",
    "    index_array = np.zeros(max_value + 1) - 1\n",
    "    index_array[array] = np.arange(len(array))\n",
    "\n",
    "    result = np.zeros_like(array_from) - 1\n",
    "    mask = array_from <= max_value\n",
    "    result[mask] = index_array[array_from[mask]]"
   ]
  },
  {
   "cell_type": "code",
   "execution_count": 42,
   "id": "b24eddaa-76e1-4bcc-8db9-4e648f564f13",
   "metadata": {},
   "outputs": [],
   "source": [
    "def index_with_sparse_matrix(array_from):\n",
    "    rows = np.unique(array_from)\n",
    "    cols = np.zeros_like(rows)\n",
    "    values = np.arange(1, len(rows) + 1)\n",
    "    matrix = sparse.coo_matrix((values, (rows, cols)), (rows[-1] + 1, 1)).tocsr()\n",
    "\n",
    "    return (matrix[array_from, 0]).tocoo().data"
   ]
  },
  {
   "cell_type": "code",
   "execution_count": 43,
   "id": "b6a818cc-00fb-457f-b91d-14044c028efd",
   "metadata": {},
   "outputs": [
    {
     "data": {
      "text/plain": [
       "array([1, 3, 1, 2, 0])"
      ]
     },
     "execution_count": 43,
     "metadata": {},
     "output_type": "execute_result"
    }
   ],
   "source": [
    "array_from = np.array([4, 19000, 4, 8, 1])\n",
    "index_with_sparse_matrix(array_from)"
   ]
  },
  {
   "cell_type": "code",
   "execution_count": 11,
   "id": "d5486625-8bab-4500-8167-66f5a8f851f3",
   "metadata": {},
   "outputs": [
    {
     "data": {
      "text/plain": [
       "<3488834974658x1 sparse array of type '<class 'numpy.int64'>'\n",
       "\twith 4 stored elements in COOrdinate format>"
      ]
     },
     "execution_count": 11,
     "metadata": {},
     "output_type": "execute_result"
    }
   ],
   "source": [
    "inpt = np.array([1288834974657, 2288834974657, 3488834974657, 3288834974657])\n",
    "array = np.unique(inpt)\n",
    "max_value = array[-1]\n",
    "max_index = len(array) - 1\n",
    "matrix = sparse.coo_array(\n",
    "    (np.arange(1, len(array) + 1), (array, np.zeros_like(array))),\n",
    "    (max_value + 1, 1),\n",
    ") #.todok()\n",
    "matrix"
   ]
  },
  {
   "cell_type": "code",
   "execution_count": 12,
   "id": "562a1c34-32b8-45fc-bf31-519d9b0a83f0",
   "metadata": {},
   "outputs": [
    {
     "ename": "TypeError",
     "evalue": "'coo_array' object is not subscriptable",
     "output_type": "error",
     "traceback": [
      "\u001b[0;31m---------------------------------------------------------------------------\u001b[0m",
      "\u001b[0;31mTypeError\u001b[0m                                 Traceback (most recent call last)",
      "Cell \u001b[0;32mIn[12], line 4\u001b[0m\n\u001b[1;32m      2\u001b[0m result \u001b[38;5;241m=\u001b[39m np\u001b[38;5;241m.\u001b[39mzeros_like(inpt) \u001b[38;5;241m-\u001b[39m \u001b[38;5;241m1\u001b[39m\n\u001b[1;32m      3\u001b[0m mask \u001b[38;5;241m=\u001b[39m inpt \u001b[38;5;241m<\u001b[39m\u001b[38;5;241m=\u001b[39m max_value\n\u001b[0;32m----> 4\u001b[0m (\u001b[43mmatrix\u001b[49m\u001b[43m[\u001b[49m\u001b[43minpt\u001b[49m\u001b[43m[\u001b[49m\u001b[43mmask\u001b[49m\u001b[43m]\u001b[49m\u001b[43m,\u001b[49m\u001b[43m \u001b[49m\u001b[43mnp\u001b[49m\u001b[38;5;241;43m.\u001b[39;49m\u001b[43mzeros_like\u001b[49m\u001b[43m(\u001b[49m\u001b[43minpt\u001b[49m\u001b[43m[\u001b[49m\u001b[43mmask\u001b[49m\u001b[43m]\u001b[49m\u001b[43m)\u001b[49m\u001b[43m]\u001b[49m)\n",
      "\u001b[0;31mTypeError\u001b[0m: 'coo_array' object is not subscriptable"
     ]
    }
   ],
   "source": [
    "inpt = np.array([1288834974657, 2288834974657, 348883974657])\n",
    "result = np.zeros_like(inpt) - 1\n",
    "mask = inpt <= max_value\n",
    "(matrix[inpt[mask], np.zeros_like(inpt[mask])])"
   ]
  },
  {
   "cell_type": "code",
   "execution_count": 4,
   "id": "appointed-sellers",
   "metadata": {},
   "outputs": [],
   "source": [
    "def index_with_searchsorted(array_from, array_to=None):\n",
    "    \"\"\"Build a dictionary from the sorted, unique elements of an array, and map this dictionary from ``array_from`` to ``array_to``.\n",
    "\n",
    "    Adapted from http://stackoverflow.com/questions/3403973/fast-replacement-of-values-in-a-numpy-array.\n",
    "\n",
    "    Here is an example:\n",
    "\n",
    "    .. code-block:: python\n",
    "\n",
    "        import numpy as np\n",
    "        array = np.array((4, 8, 6, 2, 4))\n",
    "        output = np.zeros(5)\n",
    "        index_with_searchsorted(array, output)\n",
    "        # => returns {2: 0, 4: 1, 6: 2, 8: 3}\n",
    "        # and `output` is [1, 3, 2, 0, 1]\n",
    "\n",
    "    ``array_from`` and ``array_to`` are arrays of integers.\n",
    "\n",
    "    Returns a dictionary that maps the sorted, unique elements of ``array_from`` to integers starting with zero.\"\"\"\n",
    "    unique = np.unique(array_from)\n",
    "    idx = np.searchsorted(unique, array_from)\n",
    "    if array_to is not None:\n",
    "        array_to[:] = idx\n",
    "    else:\n",
    "        array_to = idx\n",
    "    return array_to, dict(zip((int(x) for x in unique), itertools.count()))"
   ]
  },
  {
   "cell_type": "code",
   "execution_count": 2,
   "id": "little-marshall",
   "metadata": {},
   "outputs": [],
   "source": [
    "def input_array(num_elements=250_000, num_distinct=20_000):\n",
    "    return np.random.randint(low=0, high=num_distinct, size=num_elements)\n",
    "\n",
    "\n",
    "arr = input_array()"
   ]
  },
  {
   "cell_type": "code",
   "execution_count": 6,
   "id": "lyric-middle",
   "metadata": {},
   "outputs": [
    {
     "name": "stdout",
     "output_type": "stream",
     "text": [
      "51.2 ms ± 2.68 ms per loop (mean ± std. dev. of 7 runs, 10 loops each)\n"
     ]
    }
   ],
   "source": [
    "%timeit index_with_searchsorted(arr)"
   ]
  },
  {
   "cell_type": "code",
   "execution_count": 7,
   "id": "electronic-stress",
   "metadata": {},
   "outputs": [
    {
     "name": "stdout",
     "output_type": "stream",
     "text": [
      "60 ms ± 6.5 ms per loop (mean ± std. dev. of 7 runs, 10 loops each)\n"
     ]
    }
   ],
   "source": [
    "%timeit index_with_searchsorted(arr, np.zeros_like(arr))"
   ]
  },
  {
   "cell_type": "code",
   "execution_count": 15,
   "id": "84f97b1b-eb9a-498b-bf24-979be3212fd4",
   "metadata": {},
   "outputs": [
    {
     "name": "stdout",
     "output_type": "stream",
     "text": [
      "12.5 ms ± 126 µs per loop (mean ± std. dev. of 7 runs, 100 loops each)\n"
     ]
    }
   ],
   "source": [
    "%timeit index_with_indexarray(arr)"
   ]
  },
  {
   "cell_type": "code",
   "execution_count": 44,
   "id": "7491e454-ce31-4132-90c9-0d37f79e92c8",
   "metadata": {},
   "outputs": [
    {
     "name": "stdout",
     "output_type": "stream",
     "text": [
      "121 µs ± 352 ns per loop (mean ± std. dev. of 7 runs, 10,000 loops each)\n"
     ]
    }
   ],
   "source": [
    "%timeit index_with_sparse_matrix(array_from)"
   ]
  },
  {
   "cell_type": "code",
   "execution_count": 9,
   "id": "systematic-shopping",
   "metadata": {},
   "outputs": [],
   "source": [
    "MAX = 10000\n",
    "ELEMENTS = 250000"
   ]
  },
  {
   "cell_type": "code",
   "execution_count": 12,
   "id": "relative-vertex",
   "metadata": {},
   "outputs": [],
   "source": [
    "indices_row_int = np.random.randint(low=0, high=MAX, size=ELEMENTS)\n",
    "indices_row_float = indices_row_int.astype(np.float32)"
   ]
  },
  {
   "cell_type": "code",
   "execution_count": 13,
   "id": "falling-spokesman",
   "metadata": {},
   "outputs": [],
   "source": [
    "indices_col_int = np.random.randint(low=0, high=MAX, size=ELEMENTS)\n",
    "indices_col_float = indices_col_int.astype(np.float32)"
   ]
  },
  {
   "cell_type": "code",
   "execution_count": 14,
   "id": "progressive-hollow",
   "metadata": {},
   "outputs": [],
   "source": [
    "data = np.random.random(size=(250_000,))"
   ]
  },
  {
   "cell_type": "code",
   "execution_count": 15,
   "id": "spatial-dakota",
   "metadata": {},
   "outputs": [
    {
     "name": "stdout",
     "output_type": "stream",
     "text": [
      "945 µs ± 110 µs per loop (mean ± std. dev. of 7 runs, 1000 loops each)\n"
     ]
    }
   ],
   "source": [
    "%timeit sparse.coo_matrix((data, (indices_row_int, indices_col_int)), (MAX, MAX))"
   ]
  },
  {
   "cell_type": "code",
   "execution_count": 16,
   "id": "unauthorized-uncertainty",
   "metadata": {},
   "outputs": [
    {
     "name": "stdout",
     "output_type": "stream",
     "text": [
      "720 µs ± 73.7 µs per loop (mean ± std. dev. of 7 runs, 1000 loops each)\n"
     ]
    }
   ],
   "source": [
    "%timeit sparse.coo_matrix((data, (indices_row_float, indices_col_float)), (MAX, MAX))"
   ]
  },
  {
   "cell_type": "code",
   "execution_count": 17,
   "id": "interpreted-capability",
   "metadata": {},
   "outputs": [
    {
     "name": "stdout",
     "output_type": "stream",
     "text": [
      "1.09 ms ± 77.1 µs per loop (mean ± std. dev. of 7 runs, 1000 loops each)\n"
     ]
    }
   ],
   "source": [
    "%timeit sparse.coo_matrix((data, (indices_row_int.astype(np.float32), indices_col_int.astype(np.float32))), (MAX, MAX))"
   ]
  }
 ],
 "metadata": {
  "kernelspec": {
   "display_name": "Python 3 (ipykernel)",
   "language": "python",
   "name": "python3"
  },
  "language_info": {
   "codemirror_mode": {
    "name": "ipython",
    "version": 3
   },
   "file_extension": ".py",
   "mimetype": "text/x-python",
   "name": "python",
   "nbconvert_exporter": "python",
   "pygments_lexer": "ipython3",
   "version": "3.10.14"
  }
 },
 "nbformat": 4,
 "nbformat_minor": 5
}
